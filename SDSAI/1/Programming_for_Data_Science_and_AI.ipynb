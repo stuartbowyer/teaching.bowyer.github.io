{
  "cells": [
    {
      "cell_type": "markdown",
      "metadata": {
        "tags": [
          "titleslide"
        ]
      },
      "source": [
        "<img src=\"https://teaching.bowyer.io/SDSAI/0/img/IMPERIAL_logo_RGB_Blue_2024.svg\" alt=\"Imperial Logo\" width=\"500\"/><br /><br />\n",
        "\n",
        "Programming for Data Science and AI\n",
        "==============\n",
        "### SURG70098 - Surgical Data Science and AI\n",
        "### Stuart Bowyer"
      ]
    },
    {
      "cell_type": "markdown",
      "metadata": {
        "slideshow": {
          "slide_type": "slide"
        }
      },
      "source": [
        "## Intended Learning Outcomes\n",
        "1.  Understand the importance of programming in data science and AI, and the choice of programming language\n",
        "1.  Be able to setup a Python notebook-based programming project\n",
        "1.  Perform basic programming tasks in Python \n",
        "1.  Write and structure Python code using good-practice\n"
      ]
    },
    {
      "cell_type": "markdown",
      "metadata": {
        "slideshow": {
          "slide_type": "slide"
        }
      },
      "source": [
        "## Session Outline\n",
        "1.  [Programming Fundamentals](#programming-fundamentals)\n",
        "1.  [Python Development Environments](#python-development-environment)\n",
        "1.  [Python Basic Concepts](#basic-concepts)\n",
        "1.  [Python Functions](#functions)\n",
        "1.  [Wrap Up](#wrap-up)"
      ]
    },
    {
      "cell_type": "markdown",
      "metadata": {
        "slideshow": {
          "slide_type": "slide"
        }
      },
      "source": [
        "# Programming Fundamentals\n",
        "An introduction to what programming is, and how we are going to use it"
      ]
    },
    {
      "cell_type": "markdown",
      "metadata": {
        "slideshow": {
          "slide_type": "slide"
        }
      },
      "source": [
        "## Digital Computation\n",
        "<table style='table-layout: fixed; width: 100%; margin-top: 0;'>\n",
        "  <tbody>\n",
        "    <tr>\n",
        "      <td>We want ...</td>\n",
        "      <td>We have ...</td>\n",
        "      <td>Therefore, we ...</td>\n",
        "    </tr>\n",
        "    <tr>\n",
        "      <td>\n",
        "        <img src=\"https://teaching.bowyer.io/SDSAI/1/img/Surgeon_and_Data_-_ImageFx.jpeg\">\n",
        "      </td>\n",
        "      <td>\n",
        "        <img src=\"https://live.staticflickr.com/3424/3201183945_9aca75b8ed_b.jpg\">\n",
        "        <p class=\"attribution\"><small>\"<a rel=\"noopener noreferrer\" href=\"https://www.flickr.com/photos/83542829@N00/3201183945\">Intel Core 2 Duo E7300 CPU</a>\" by <a rel=\"noopener noreferrer\" href=\"https://www.flickr.com/photos/83542829@N00\">William Hook</a> is licensed under <a rel=\"noopener noreferrer\" href=\"https://creativecommons.org/licenses/by-sa/2.0/?ref=openverse\">CC BY-SA 2.0 <img src=\"https://mirrors.creativecommons.org/presskit/icons/cc.svg\" style=\"height: 1em; margin-right: 0.125em; display: inline;\" /><img src=\"https://mirrors.creativecommons.org/presskit/icons/by.svg\" style=\"height: 1em; margin-right: 0.125em; display: inline;\" /><img src=\"https://mirrors.creativecommons.org/presskit/icons/sa.svg\" style=\"height: 1em; margin-right: 0.125em; display: inline;\" /></a>.</small></p>\n",
        "      </td>\n",
        "      <td>\n",
        "        <img src=\"https://live.staticflickr.com/4836/44661017890_eb4f288ffe_b.jpg\">\n",
        "        <p class=\"attribution\"><small>\"<a rel=\"noopener noreferrer\" href=\"https://www.flickr.com/photos/47121680@N00/44661017890\">Python Source Code</a>\" by <a rel=\"noopener noreferrer\" href=\"https://www.flickr.com/photos/47121680@N00\">joncutrer</a> is marked with <a rel=\"noopener noreferrer\" href=\"https://creativecommons.org/publicdomain/zero/1.0/?ref=openverse\">CC0 1.0 <img src=\"https://mirrors.creativecommons.org/presskit/icons/cc.svg\" style=\"height: 1em; margin-right: 0.125em; display: inline;\" /><img src=\"https://mirrors.creativecommons.org/presskit/icons/zero.svg\" style=\"height: 1em; margin-right: 0.125em; display: inline;\" /></a>.</small></p>\n",
        "       </td>\n",
        "    </tr>\n",
        "    <tr>\n",
        "      <td>\n",
        "        To create a data science or AI application that can:\n",
        "        <ul>\n",
        "          <li>Perceive some input/s</li>\n",
        "          <li>Possibly combine it with some other prior information</li>\n",
        "          <li>Output some decision or prediction</li>\n",
        "          <li>Without us having to help it run manually</li>\n",
        "        </ul>\n",
        "      </td>\n",
        "      <td>\n",
        "        Computers based on processors that can do:\n",
        "        <ul>\n",
        "          <li>Arithmetic (Add, subtract, multiply, divide)</li>\n",
        "          <li>Logic (AND, OR, NOT, compare)</li>\n",
        "          <li>Read/write</li>\n",
        "        </ul>\n",
        "      </td>\n",
        "      <td>\n",
        "        Describe our requirements/intent as a sequence of instructions that can be applied by the computer.\n",
        "      </td>\n",
        "    </tr>\n",
        "  </tbody>\n",
        "</table>"
      ]
    },
    {
      "cell_type": "markdown",
      "metadata": {
        "slideshow": {
          "slide_type": "slide"
        }
      },
      "source": [
        "## What is Programming?\n",
        "\n",
        "<table style='table-layout: fixed; width: 100%; margin-top: 0;'>\n",
        "  <tbody>\n",
        "    <tr>\n",
        "      <td>\n",
        "        <ul>\n",
        "          <li>Programming allows us to give instructions to a computer so that it can perform some required computation</li>\n",
        "          <li>Plugboards and punch cards were originally used to provide instructions</li>\n",
        "          <li>This has obvious limitations of programming speed, reusability, and scalability</li>\n",
        "        </ul>\n",
        "      </td>\n",
        "      <td>\n",
        "        <img src=\"https://live.staticflickr.com/3576/3660521353_4d6a32bd0b.jpg\">\n",
        "        <p class=\"attribution\"><small>\"<a rel=\"noopener noreferrer\" href=\"https://www.flickr.com/photos/17157315@N00/3660521353\">ENIAC</a>\" by <a rel=\"noopener noreferrer\" href=\"https://www.flickr.com/photos/17157315@N00\">thekirbster</a> is licensed under <a rel=\"noopener noreferrer\" href=\"https://creativecommons.org/licenses/by/2.0/?ref=openverse\">CC BY 2.0 <img src=\"https://mirrors.creativecommons.org/presskit/icons/cc.svg\" style=\"height: 1em; margin-right: 0.125em; display: inline;\" /><img src=\"https://mirrors.creativecommons.org/presskit/icons/by.svg\" style=\"height: 1em; margin-right: 0.125em; display: inline;\" /></a>.</small></p>\n",
        "      </td>\n",
        "    </tr>\n",
        "  </tbody>\n",
        "</table>"
      ]
    },
    {
      "cell_type": "markdown",
      "metadata": {
        "slideshow": {
          "slide_type": "slide"
        }
      },
      "source": [
        "### Low-level Languages\n",
        "*e.g. Assembly and Machine Code*\n",
        "\n",
        "*   Allow computer instructions to be written in a standardised language\n",
        "\n",
        "***\n",
        "\n",
        "```\n",
        "section .data\n",
        "    message: db \"Hello, world!\", 10\n",
        "    len: equ $-message\n",
        "\n",
        "section .text\n",
        "    global _start\n",
        "\n",
        "_start:\n",
        "    mov eax, 4      ; system call number for write\n",
        "    mov ebx, 1      ; file descriptor for standard output\n",
        "    mov ecx, message ; address of the message\n",
        "    mov edx, len    ; length of the message\n",
        "    int 0x80        ; invoke the system call\n",
        "\n",
        "    mov eax, 1      ; system call number for exit\n",
        "    mov ebx, 0      ; exit status\n",
        "    int 0x80\n",
        "```"
      ]
    },
    {
      "cell_type": "markdown",
      "metadata": {
        "slideshow": {
          "slide_type": "slide"
        }
      },
      "source": [
        "### (Early) High-level Languages\n",
        "*e.g. FORTRAN and C*\n",
        "\n",
        "*   Language abstracted from the computing architecture\n",
        "*   Improved portability and reusability\n",
        "\n",
        "***\n",
        "\n",
        "```\n",
        "program hello_world\n",
        "print *, \"Hello, world!\"\n",
        "end program hello_world\n",
        "```"
      ]
    },
    {
      "cell_type": "markdown",
      "metadata": {
        "slideshow": {
          "slide_type": "slide"
        }
      },
      "source": [
        "### Modern High-level Languages\n",
        "*e.g. Python and Javascript*\n",
        "\n",
        "*   Increased abstraction\n",
        "*   Increased simplicity\n",
        "*   Increased error tolerance and prevention\n",
        "*   Increased capabilities\n",
        "*   Increased specialisation for modern tasks (e.g. web)"
      ]
    },
    {
      "cell_type": "code",
      "execution_count": 1,
      "metadata": {},
      "outputs": [
        {
          "name": "stdout",
          "output_type": "stream",
          "text": [
            "Hello, World!\n"
          ]
        }
      ],
      "source": [
        "print(\"Hello, World!\")"
      ]
    },
    {
      "cell_type": "markdown",
      "metadata": {
        "slideshow": {
          "slide_type": "slide"
        }
      },
      "source": [
        "### 'No-Code' Programming Approaches\n",
        "\n",
        "<table style='table-layout: fixed; width: 100%; margin-top: 0;'>\n",
        "  <tbody>\n",
        "    <tr>\n",
        "      <th>Natural Language Programming</th>\n",
        "      <th>Visual Programming</th>\n",
        "      <th>Interactive Data Visualisation (and Analytics) Tools</th>\n",
        "    </tr>\n",
        "    <tr>\n",
        "      <td>\n",
        "        <img src=\"https://teaching.bowyer.io/SDSAI/1/img/ChatGPT_HelloWorld.png\"></img>\n",
        "      </td>\n",
        "      <td>\n",
        "        <img src=\"https://upload.wikimedia.org/wikipedia/commons/d/d2/Knime_5.2_GUI.png\">\n",
        "        <small>By Unknown author - www.knime.com, <a href=\"https://creativecommons.org/licenses/by-sa/4.0\" title=\"Creative Commons Attribution-Share Alike 4.0\">CC BY-SA 4.0</a>, <a href=\"https://commons.wikimedia.org/w/index.php?curid=147486132\">Link</a></small>\n",
        "      </td>\n",
        "      <td>\n",
        "        <img src=\"https://upload.wikimedia.org/wikipedia/commons/7/73/Global_Temperatures_Server.png\">\n",
        "        <small>By <a href=\"//commons.wikimedia.org/w/index.php?title=User:Marissa-anna&amp;action=edit&amp;redlink=1\" class=\"new\" title=\"User:Marissa-anna (page does not exist)\">Marissa-anna</a> - <span class=\"int-own-work\" lang=\"en\">Own work</span>, <a href=\"https://creativecommons.org/licenses/by-sa/4.0\" title=\"Creative Commons Attribution-Share Alike 4.0\">CC BY-SA 4.0</a>, <a href=\"https://commons.wikimedia.org/w/index.php?curid=74539538\">Link</a></small>\n",
        "       </td>\n",
        "    </tr>\n",
        "    <tr>\n",
        "      <td>\n",
        "        <p>Generate code, or programs directly from natural language instructions and offer higher form of abstraction from HW/language</p>\n",
        "      </td>\n",
        "      <td>\n",
        "        <p>Originally for teaching/understanding basic algorithms, but increasingly available for cloud data/ML pipelines</p>\n",
        "      </td>\n",
        "      <td>\n",
        "        <p>Allow the exploration and analysis of data by selecting from analytics methods a visualisations</p>\n",
        "      </td>\n",
        "    </tr>\n",
        "  </tbody>\n",
        "</table>\n",
        "\n",
        "**We will not be focusing on these**\n"
      ]
    },
    {
      "cell_type": "markdown",
      "metadata": {
        "slideshow": {
          "slide_type": "slide"
        }
      },
      "source": [
        "## Why Python 3\n",
        "*   Simple high-level syntax - relatively easy for beginners to write and intuitive to understand\n",
        "*   Very widely used (particularly in machine learning) - lots of online resources, community and libraries\n",
        "*   Interpreted (code translation happens at runtime) - allows quick prototyping and debugging\n",
        "*   Cross platform and open source (will happily run on windows, mac, web, etc.) - anyone, anywhere can use it for free"
      ]
    },
    {
      "cell_type": "code",
      "execution_count": 2,
      "metadata": {},
      "outputs": [
        {
          "name": "stdout",
          "output_type": "stream",
          "text": [
            "The maximum number is greater than 15\n"
          ]
        }
      ],
      "source": [
        "numbers = [10, 5, 20, 8, 15]\n",
        "\n",
        "if max(numbers) > 15:\n",
        "    print(\"The maximum number is greater than 15\")"
      ]
    },
    {
      "cell_type": "markdown",
      "metadata": {
        "slideshow": {
          "slide_type": "slide"
        }
      },
      "source": [
        "## Other Programming Languages\n",
        "\n",
        "<table style='table-layout: fixed; width: 100%; margin-top: 0;'>\n",
        "  <tbody>\n",
        "    <tr>\n",
        "      <th>SQL</th>\n",
        "      <th>R</th>\n",
        "      <th>Julia</th>\n",
        "      <th>Prolog</th>\n",
        "      <th>C++/Java</th>\n",
        "      <th>MATLAB/ SAS/ STATA</th>\n",
        "    </tr>\n",
        "    <tr>\n",
        "      <td>\n",
        "        <ul>\n",
        "          <li>Ubiquitous language for interacting with databases</li>\n",
        "          <li>Allows efficient extraction, manipulation and analysis of data</li>\n",
        "          <li>Modern data platforms allow very high performance over petabytes</li>\n",
        "        </ul>\n",
        "      </td>\n",
        "      <td>\n",
        "        <ul>\n",
        "          <li>Widely used language with tidy syntax for data manipulation and analytics</li>\n",
        "          <li>Has many libraries for data science and machine learning</li>\n",
        "          <li>Easily creates good-looking visualisations</li>\n",
        "        </ul>\n",
        "      </td>\n",
        "      <td>\n",
        "        <ul>\n",
        "          <li>A modern python-like language with a focus on data science and AI</li>\n",
        "          <li>Improved performance over Python</li>\n",
        "          <li>Nice inbuilt visualisation libraries</li>\n",
        "        </ul>\n",
        "      </td>\n",
        "      <td>\n",
        "        <ul>\n",
        "          <li>A declarative language that allows elegant representation of logical rules</li>\n",
        "          <li>Extensively used in logic-based AI</li>\n",
        "        </ul>\n",
        "      </td>\n",
        "      <td>\n",
        "        <ul>\n",
        "          <li>C++ and Java are both widely used, high performance languages</li>\n",
        "          <li>C++ is appropriate for data processing that requires specialised system programming</li>\n",
        "          <li>Java is very common in server-side programming for data platforms</li>\n",
        "        </ul>\n",
        "      </td>\n",
        "      <td>\n",
        "        <ul>\n",
        "          <li>Proprietary languages/ packages for scientific, mathematical and statistical computing</li>\n",
        "          <li>In general, I recommend using free/open alternatives</li>\n",
        "        </ul>\n",
        "      </td>\n",
        "    </tr>\n",
        "  </tbody>\n",
        "</table>"
      ]
    },
    {
      "cell_type": "markdown",
      "metadata": {
        "slideshow": {
          "slide_type": "slide"
        }
      },
      "source": [
        "# Python Development Environment"
      ]
    },
    {
      "cell_type": "markdown",
      "metadata": {
        "slideshow": {
          "slide_type": "slide"
        }
      },
      "source": [
        "## Possible Python Development Environments\n",
        "\n",
        "<table style='table-layout: fixed; width: 100%; margin-top: 0;'>\n",
        "  <tbody>\n",
        "    <tr>\n",
        "      <th>Text Editor and Terminal</th>\n",
        "      <th>Integrated Development Environment</th>\n",
        "      <th>Notebooks</th>\n",
        "    </tr>\n",
        "    <tr>\n",
        "      <td>\n",
        "        <img src=\"https://teaching.bowyer.io/SDSAI/1/img/Python_Terminal.png\">\n",
        "      </td>\n",
        "      <td>\n",
        "        <img src=\"https://teaching.bowyer.io/SDSAI/1/img/Python_IDE.png\">\n",
        "      </td>\n",
        "      <td>\n",
        "        <img src=\"https://teaching.bowyer.io/SDSAI/1/img/Python_Colab.png\">\n",
        "       </td>\n",
        "    </tr>\n",
        "    <tr>\n",
        "      <td>\n",
        "        <p>Advantages</p>\n",
        "        <ul>\n",
        "          <li>Simple</li>\n",
        "        </ul>\n",
        "      </td>\n",
        "      <td>\n",
        "        <p>Advantages</p>\n",
        "        <ul>\n",
        "          <li>Extensive debug support</li>\n",
        "          <li>Syntax support</li>\n",
        "          <li>Architecture support</li>\n",
        "          <li>Fully flexible</li>\n",
        "        </ul>\n",
        "        <p>e.g. <a href=\"https://www.jetbrains.com/pycharm/\">PyCharm</a>, <a href=\"https://code.visualstudio.com/\">VS Code</a></p>\n",
        "      </td>\n",
        "      <td>\n",
        "        <p>Advantages</p>\n",
        "        <ul>\n",
        "          <li>Very easy to get started</li>\n",
        "          <li>Some syntax support</li>\n",
        "          <li>Enables clean annotated code</li>\n",
        "          <li>Ideal for learning and exploration</li>\n",
        "        </ul>\n",
        "        <p>e.g. <a href=\"https://jupyter.org/\">Jupyter</a>, <a href=\"https://colab.google/\">Colab</a></p>\n",
        "      </td>\n",
        "    </tr>\n",
        "  </tbody>\n",
        "</table>"
      ]
    },
    {
      "cell_type": "markdown",
      "metadata": {
        "slideshow": {
          "slide_type": "slide"
        }
      },
      "source": [
        "## Using Google Colab\n",
        "### Getting Started\n",
        "*   I suggest using Google Chrome browser\n",
        "*   https://colab.research.google.com\n",
        "*   Sign in with your google account\n",
        "*   Create a new notebook by clicking the '+ New notebook'\n",
        "*   Rename the new notebook to something useful (suggest 'SDSAI Tutorial 1')"
      ]
    },
    {
      "cell_type": "markdown",
      "metadata": {
        "slideshow": {
          "slide_type": "slide"
        }
      },
      "source": [
        "### Running Code\n",
        "![Running code in Colab](https://teaching.bowyer.io/SDSAI/1/img/Colab_Running_Code.png)"
      ]
    },
    {
      "cell_type": "markdown",
      "metadata": {
        "slideshow": {
          "slide_type": "slide"
        }
      },
      "source": [
        "### Adding Code Blocks\n",
        "![Adding code blocks in Colab](https://teaching.bowyer.io/SDSAI/1/img/Colab_Add_Blocks.png)"
      ]
    },
    {
      "cell_type": "markdown",
      "metadata": {
        "slideshow": {
          "slide_type": "slide"
        }
      },
      "source": [
        "### Adding Text Blocks\n",
        "![Adding text blocks in Colab](https://teaching.bowyer.io/SDSAI/1/img/Colab_Add_Markdown.png)"
      ]
    },
    {
      "cell_type": "markdown",
      "metadata": {
        "slideshow": {
          "slide_type": "slide"
        }
      },
      "source": [
        "### Managing Runtime\n",
        "![Managing runtime in Colab](https://teaching.bowyer.io/SDSAI/1/img/Colab_Manage_Runtime.png)"
      ]
    },
    {
      "cell_type": "markdown",
      "metadata": {
        "slideshow": {
          "slide_type": "slide"
        }
      },
      "source": [
        "### Considerations and Limitations\n",
        "*   **As notebooks retain data you should NEVER use them with data for which you do not have permission to put in an overseas online repository**\n",
        "*   Notebooks teach/encourage a specific way of programming that conflicts with some advanced programming, packaging, and deployment of code\n",
        "*   Free Colab notebooks have limited resources (approx. 2.2GHz CPU, 12 GB RAM, and 110 GB disk)\n",
        "*   Colab notebook runtimes have a limited lifetime (2-3 days at maximum, 30 mins of inactivity)\n",
        "*   Risks of accruing costs quickly if care is not taken"
      ]
    },
    {
      "cell_type": "markdown",
      "metadata": {
        "id": "BE0swWBXoN0G",
        "slideshow": {
          "slide_type": "slide"
        }
      },
      "source": [
        "# Basic Concepts\n",
        "This section of the tutorial covers variables, data types, operators and control flow."
      ]
    },
    {
      "cell_type": "markdown",
      "metadata": {
        "id": "WVHRtzvMRtlX",
        "slideshow": {
          "slide_type": "slide"
        }
      },
      "source": [
        "## Comments\n",
        "*   Comments are text notes mixed in with the Python code that are not interpreted or run by Python.\n",
        "*   You should use comments to annotate code to help other people, or yourself later one, understand its function.\n",
        "*   I will use these to help demonstrate the purpose of different bits of code."
      ]
    },
    {
      "cell_type": "code",
      "execution_count": 3,
      "metadata": {
        "colab": {
          "base_uri": "https://localhost:8080/",
          "height": 35
        },
        "id": "rZMGuA1uR6D6",
        "outputId": "18b03a0d-f3aa-4c60-e7a6-eace52d656f4",
        "tags": [
          "remove-output"
        ]
      },
      "outputs": [
        {
          "data": {
            "text/plain": [
              "'\\nTriple quote marks can even be used\\nacross multiple lines\\n\\nwith spaces.\\n'"
            ]
          },
          "execution_count": 3,
          "metadata": {},
          "output_type": "execute_result"
        }
      ],
      "source": [
        "# This is a comment, and running this doesn't do anything\n",
        "\n",
        "# Comments can be split\n",
        "# across multiple lines\n",
        "\n",
        "\"\"\" Comments can also be wrapped in triple quote marks \"\"\"\n",
        "\n",
        "\"\"\"\n",
        "Triple quote marks can even be used\n",
        "across multiple lines\n",
        "\n",
        "with spaces.\n",
        "\"\"\""
      ]
    },
    {
      "cell_type": "markdown",
      "metadata": {
        "id": "gvh3LoC0Ixwk",
        "slideshow": {
          "slide_type": "slide"
        }
      },
      "source": [
        "## Variables\n",
        "*   Variables store data in a Python program. They can be created, modified and used.\n",
        "*   Variable names can be very flexible; however, there are recommendations names should be \"lowercase, with words separated by underscores as necessary to improve readability\" (https://peps.python.org/pep-0008/#function-and-variable-names)"
      ]
    },
    {
      "cell_type": "code",
      "execution_count": 1,
      "metadata": {
        "colab": {
          "base_uri": "https://localhost:8080/"
        },
        "id": "04ihLpV_IeCh",
        "outputId": "2eb9bdf3-f7db-46f4-b136-8295908fa736"
      },
      "outputs": [
        {
          "name": "stdout",
          "output_type": "stream",
          "text": [
            "10\n",
            "20\n"
          ]
        }
      ],
      "source": [
        "# Create two variables 'a' and 'b' with the values 10 and 20\n",
        "a = 10\n",
        "b = 20\n",
        "\n",
        "# Print the value of the variables\n",
        "print(a)\n",
        "print(b)"
      ]
    },
    {
      "cell_type": "markdown",
      "metadata": {
        "slideshow": {
          "slide_type": "slide"
        }
      },
      "source": [
        "*   Once created, variables can be overwritten with new data\n",
        "*   Note that variable names are case sensitive (i.e. `A` is not the same as `a`)"
      ]
    },
    {
      "cell_type": "code",
      "execution_count": 5,
      "metadata": {},
      "outputs": [
        {
          "name": "stdout",
          "output_type": "stream",
          "text": [
            "Tree\n",
            "Tree\n",
            "Flower\n"
          ]
        }
      ],
      "source": [
        "# Variables can be overwritten, even with totally different data\n",
        "a = \"Tree\"\n",
        "\n",
        "print(a)\n",
        "\n",
        "# Variables are case sensitive\n",
        "A = \"Flower\"\n",
        "\n",
        "print(a)\n",
        "print(A)"
      ]
    },
    {
      "cell_type": "markdown",
      "metadata": {
        "id": "s5hiS4QId0k3",
        "slideshow": {
          "slide_type": "slide"
        }
      },
      "source": [
        "## Types\n",
        "*   Variables in Python all have 'types'. These define the type of data they can hold.\n",
        "*   Python is dynamically typed, which means a variable's type can change, but it will only do this when your code explicitly asks for it.\n",
        "*   These are some of the inbuilt types, but there are many many more inbuilt and through libraries.\n",
        "*   **Types are important because they define what 'kind of thing' you can do with a variable**"
      ]
    },
    {
      "cell_type": "markdown",
      "metadata": {
        "slideshow": {
          "slide_type": "slide"
        }
      },
      "source": [
        "### Numerical Types"
      ]
    },
    {
      "cell_type": "code",
      "execution_count": 6,
      "metadata": {
        "colab": {
          "base_uri": "https://localhost:8080/"
        },
        "id": "NmYt0MIwfSEg",
        "outputId": "68f536b9-ce97-4fd9-d682-dcb70cf6bc5b"
      },
      "outputs": [
        {
          "name": "stdout",
          "output_type": "stream",
          "text": [
            "<class 'int'>\n",
            "<class 'float'>\n"
          ]
        }
      ],
      "source": [
        "number = 42       # a number, specifically an 'integer'\n",
        "decimal = 3.14159 # a 'float', i.e. a floating point number with a decimal value\n",
        "\n",
        "print(type(number))\n",
        "print(type(decimal))"
      ]
    },
    {
      "cell_type": "markdown",
      "metadata": {
        "slideshow": {
          "slide_type": "slide"
        }
      },
      "source": [
        "### Sequence Types\n",
        "*   Sequences are ordered sets of other data types\n",
        "*   Other types exist but are beyond the scope here"
      ]
    },
    {
      "cell_type": "code",
      "execution_count": 7,
      "metadata": {},
      "outputs": [
        {
          "name": "stdout",
          "output_type": "stream",
          "text": [
            "<class 'list'>\n",
            "<class 'tuple'>\n",
            "<class 'str'>\n",
            "<class 'list'>\n",
            "<class 'list'>\n"
          ]
        }
      ],
      "source": [
        "# Sequence types\n",
        "lst = [1, 1, 2, 3, 5, 8]  # a list of any other type\n",
        "tup = (2, 3, 5, 7, 11)    # a tuple (immutable) list of any other type\n",
        "string = \"elephant\"       # a str (string), i.e. a sequence of characters\n",
        "lstlst = [1, [10, 20], 2] # you can even put lists in lists (in lists ...)\n",
        "lstmix = [1, \"lion\", 2]   # you can even mix types within lists\n",
        "\n",
        "print(type(lst))\n",
        "print(type(tup))\n",
        "print(type(string))\n",
        "print(type(lstlst))\n",
        "print(type(lstmix))"
      ]
    },
    {
      "cell_type": "markdown",
      "metadata": {
        "slideshow": {
          "slide_type": "slide"
        }
      },
      "source": [
        "### Logical Types"
      ]
    },
    {
      "cell_type": "code",
      "execution_count": 8,
      "metadata": {},
      "outputs": [
        {
          "name": "stdout",
          "output_type": "stream",
          "text": [
            "<class 'bool'>\n"
          ]
        }
      ],
      "source": [
        "boolean = True  # a true logical bool (boolean) - note capitalisation\n",
        "boolean = False # a false logical bool (boolean) - note capitalisation\n",
        "\n",
        "print(type(boolean))"
      ]
    },
    {
      "cell_type": "markdown",
      "metadata": {
        "slideshow": {
          "slide_type": "slide"
        }
      },
      "source": [
        "### Mapping Types\n",
        "*   Mappings are a collection (non-ordered) of 'key' 'value' pairs\n",
        "*   They are very helpful for retrieving information"
      ]
    },
    {
      "cell_type": "code",
      "execution_count": 9,
      "metadata": {},
      "outputs": [
        {
          "name": "stdout",
          "output_type": "stream",
          "text": [
            "<class 'dict'>\n",
            "{'firstname': 'John', 'lastname': 'Doe', 'age': 23}\n",
            "John\n",
            "23\n"
          ]
        }
      ],
      "source": [
        "dictionary = {            # a dict (dictionary) mapping of keys to values\n",
        "    \"firstname\": \"John\",\n",
        "    \"lastname\": \"Doe\",\n",
        "    \"age\": 23\n",
        "}\n",
        "print(type(dictionary))\n",
        "print(dictionary)\n",
        "print(dictionary[\"firstname\"])\n",
        "print(dictionary[\"age\"])"
      ]
    },
    {
      "cell_type": "markdown",
      "metadata": {
        "id": "gIBGp-dH1RRG",
        "slideshow": {
          "slide_type": "slide"
        }
      },
      "source": [
        "### Lists\n",
        "*   Elements (items) within a list can be accessed in several ways\n",
        "*   These accessor functions also work for other sequences\n",
        "\n",
        "#### List Item Access"
      ]
    },
    {
      "cell_type": "code",
      "execution_count": 10,
      "metadata": {
        "colab": {
          "base_uri": "https://localhost:8080/"
        },
        "id": "TKSw15LT1ebM",
        "outputId": "74b65800-1d55-45ee-869c-dceb5955c507"
      },
      "outputs": [
        {
          "name": "stdout",
          "output_type": "stream",
          "text": [
            "The first patient is Oliver\n",
            "The second patient is Amelia\n",
            "The second and third patients are ['Amelia', 'Noah']\n",
            "The last patient is Liam\n",
            "The penultimate patient is Emma\n"
          ]
        }
      ],
      "source": [
        "# Create a list of patients\n",
        "patients = ['Oliver', 'Amelia', 'Noah', 'Emma', 'Liam']\n",
        "\n",
        "# List items are accessed with square brackets (Note indices start at 0)\n",
        "print('The first patient is', patients[0])\n",
        "print('The second patient is', patients[1])\n",
        "\n",
        "# Sections of a list can be selected (sliced)\n",
        "print('The second and third patients are', patients[1:3])\n",
        "\n",
        "# Lists can be indexed in reverse - allowing easy access to the last elements\n",
        "print('The last patient is', patients[-1])\n",
        "print('The penultimate patient is', patients[-2])"
      ]
    },
    {
      "cell_type": "markdown",
      "metadata": {
        "slideshow": {
          "slide_type": "slide"
        }
      },
      "source": [
        "#### List Built-in Functions\n",
        "*   Functions reusable bits of code that can take an input and/or return something (e.g. `print()`)\n",
        "*   We will cover functions in more detail later on\n",
        "*   There are several functions that you can use on lists to get information about them"
      ]
    },
    {
      "cell_type": "code",
      "execution_count": 11,
      "metadata": {},
      "outputs": [
        {
          "name": "stdout",
          "output_type": "stream",
          "text": [
            "Number of patients is 5\n",
            "Sorted list is ['Amelia', 'Emma', 'Liam', 'Noah', 'Oliver']\n"
          ]
        }
      ],
      "source": [
        "# You can find out the length of a list with the 'len' function\n",
        "print('Number of patients is', len(patients))\n",
        "\n",
        "# You can sort (order alphabetically) the list\n",
        "print('Sorted list is', sorted(patients))"
      ]
    },
    {
      "cell_type": "markdown",
      "metadata": {
        "slideshow": {
          "slide_type": "slide"
        }
      },
      "source": [
        "#### List Methods\n",
        "*   Some functions are called 'methods' of the list object and can be found here: https://docs.python.org/3/tutorial/datastructures.html#more-on-lists\n",
        "*   These are functions that are attached to the list object so are called in a different way\n",
        "*   Note that these methods modify the original list itself"
      ]
    },
    {
      "cell_type": "code",
      "execution_count": 12,
      "metadata": {},
      "outputs": [
        {
          "name": "stdout",
          "output_type": "stream",
          "text": [
            "Sorted list ['Amelia', 'Emma', 'Liam', 'Noah', 'Oliver']\n",
            "Appended list ['Amelia', 'Emma', 'Liam', 'Noah', 'Oliver', 'Zoe']\n",
            "Popped list ['Emma', 'Liam', 'Noah', 'Oliver', 'Zoe']\n",
            "Reversed list ['Zoe', 'Oliver', 'Noah', 'Liam', 'Emma']\n"
          ]
        }
      ],
      "source": [
        "# You can sort a list (alphabetically) with the 'sort' method\n",
        "patients.sort()\n",
        "print('Sorted list', patients)\n",
        "\n",
        "# You can add items\n",
        "patients.append('Zoe')\n",
        "print('Appended list', patients)\n",
        "\n",
        "# And remove items - based on their index\n",
        "patients.pop(0)\n",
        "print('Popped list', patients)\n",
        "\n",
        "# You can reverse the list\n",
        "patients.reverse()\n",
        "print('Reversed list', patients)"
      ]
    },
    {
      "cell_type": "markdown",
      "metadata": {
        "id": "Bh5Ntjzq5Bsv",
        "slideshow": {
          "slide_type": "slide"
        }
      },
      "source": [
        "### Strings\n",
        "*   Manipulating text strings is very common in programming and specifically in data science\n",
        "\n",
        "#### String Character Access\n",
        "*   The characters within a string can be accessed in the same way as lists"
      ]
    },
    {
      "cell_type": "code",
      "execution_count": 13,
      "metadata": {
        "colab": {
          "base_uri": "https://localhost:8080/"
        },
        "id": "Ik4lt0-G5EWD",
        "outputId": "bff9e754-4963-4841-cd08-fb72a0728bc9"
      },
      "outputs": [
        {
          "name": "stdout",
          "output_type": "stream",
          "text": [
            "N\n",
            "2\n",
            "Chronic kidney disease\n",
            "Length of string 39\n"
          ]
        }
      ],
      "source": [
        "diagnosis = \"N18.2 - Chronic kidney disease, stage 2\"\n",
        "\n",
        "# First character\n",
        "print(diagnosis[0])\n",
        "# Last character\n",
        "print(diagnosis[-1])\n",
        "# Set of characters\n",
        "print(diagnosis[8:30])\n",
        "\n",
        "# As with other sequences, you can also use the 'len' function to find the length\n",
        "print('Length of string', len(diagnosis))"
      ]
    },
    {
      "cell_type": "markdown",
      "metadata": {
        "slideshow": {
          "slide_type": "slide"
        }
      },
      "source": [
        "#### String Methods\n",
        "\n",
        "*   There are many methods for strings that make manipulating them easier - https://docs.python.org/3/library/stdtypes.html#str\n",
        "*   Note the difference between the previous list methods and these string methods.\n",
        "    *   Strings are immutable (unchangable) therefore the methods return a modified copy of the original string.\n",
        "    *   Lists are mutable (changeable) therefore the methods modify the original variable. These are called 'in-place' methods.\n",
        "    *   Always check the documentation"
      ]
    },
    {
      "cell_type": "code",
      "execution_count": 14,
      "metadata": {},
      "outputs": [
        {
          "name": "stdout",
          "output_type": "stream",
          "text": [
            "Upper case: N18.2 - CHRONIC KIDNEY DISEASE, STAGE 2\n",
            "Lower case: n18.2 - chronic kidney disease, stage 2\n",
            "Diagnosis code: N18.2\n",
            "Diagnosis description: Chronic kidney disease, stage 2\n",
            "Diagnosis replaced: N18.2 - CKD, stage 2\n",
            "The diagnosis is: N18.2 - Chronic kidney disease, stage 2\n"
          ]
        }
      ],
      "source": [
        "# Change the case\n",
        "print('Upper case:', diagnosis.upper())\n",
        "print('Lower case:', diagnosis.lower())\n",
        "\n",
        "# Split the string at a given point - creating a list of strings\n",
        "diagnosis_split = diagnosis.split(' - ')\n",
        "print('Diagnosis code:', diagnosis_split[0])\n",
        "print('Diagnosis description:', diagnosis_split[1])\n",
        "\n",
        "# Replace parts of the string\n",
        "print('Diagnosis replaced:', diagnosis.replace(\"Chronic kidney disease\", \"CKD\"))\n",
        "\n",
        "# f-strings (formatted string literals) make printing strings with variables easier\n",
        "# There are several other ways to print formatted strings\n",
        "print(f'The diagnosis is: {diagnosis}')"
      ]
    },
    {
      "cell_type": "markdown",
      "metadata": {
        "slideshow": {
          "slide_type": "slide"
        }
      },
      "source": [
        "### ❓ Types Quick Check\n",
        "1. What would be the type of this variable:  \n",
        "    ```which_type_1 = '201'```\n",
        "1. What would be the type of this variable:  \n",
        "    ```which_type_2 = [1]```\n",
        "1. What would be the type of this variable:  \n",
        "    ```which_type_3 = 4 / 3```"
      ]
    },
    {
      "cell_type": "markdown",
      "metadata": {
        "id": "ONR_2MneTUUb",
        "slideshow": {
          "slide_type": "slide"
        }
      },
      "source": [
        "## Operators"
      ]
    },
    {
      "cell_type": "markdown",
      "metadata": {
        "id": "SOomE5KMmL7x"
      },
      "source": [
        "### Arithmetic Operators\n",
        "Arithmetic manipulation of data is fundamental to developing software applications."
      ]
    },
    {
      "cell_type": "code",
      "execution_count": 15,
      "metadata": {
        "colab": {
          "base_uri": "https://localhost:8080/"
        },
        "id": "h51lV0u9miY9",
        "outputId": "9dfe4ddd-f94c-43a3-b510-29e7798a6c01"
      },
      "outputs": [
        {
          "name": "stdout",
          "output_type": "stream",
          "text": [
            "a + b = 14\n",
            "a - b = 8\n",
            "a * b = 33\n",
            "a / b = 3.6666666666666665\n",
            "a // b = 3\n",
            "a % b = 2\n",
            "a ** b = 1331\n"
          ]
        }
      ],
      "source": [
        "a = 11\n",
        "b = 3\n",
        "\n",
        "print(\"a + b =\", a + b)   # addition\n",
        "print(\"a - b =\", a - b)   # subtraction\n",
        "\n",
        "print(\"a * b =\", a * b)   # multiplication\n",
        "print(\"a / b =\", a / b)   # division\n",
        "print(\"a // b =\", a // b) # integer division\n",
        "print(\"a % b =\", a % b)   # modulo (remainder)\n",
        "\n",
        "print(\"a ** b =\", a ** b) # Exponent"
      ]
    },
    {
      "cell_type": "markdown",
      "metadata": {
        "id": "LsX16Ok7uzYL",
        "slideshow": {
          "slide_type": "slide"
        }
      },
      "source": [
        "#### Operator Precedence\n",
        "*   ❗Make sure you consider the order of precedence of arithmetic operators, as you would for conventional maths\n",
        "*   Precdence will apply to all operators in Python\n",
        "*   The full order is available here: https://docs.python.org/3/reference/expressions.html#operator-precedence"
      ]
    },
    {
      "cell_type": "code",
      "execution_count": 16,
      "metadata": {
        "colab": {
          "base_uri": "https://localhost:8080/"
        },
        "id": "zqugpIHbvGOE",
        "outputId": "bc7a97d1-c1a2-44cc-d017-6f426ba04ce5"
      },
      "outputs": [
        {
          "name": "stdout",
          "output_type": "stream",
          "text": [
            "7\n",
            "9\n"
          ]
        }
      ],
      "source": [
        "# These two lines are not the same because multiplication has a higher precedence than addition\n",
        "print(1 + 2 * 3)\n",
        "print((1 + 2) * 3)"
      ]
    },
    {
      "cell_type": "markdown",
      "metadata": {
        "id": "6x_bDs6-oWNC",
        "slideshow": {
          "slide_type": "slide"
        }
      },
      "source": [
        "#### Assignment Operators\n",
        "*   You will often want to assign the result of an operator to a variable\n",
        "*   Assignment operators make it simpler to modify existing variables"
      ]
    },
    {
      "cell_type": "code",
      "execution_count": 17,
      "metadata": {
        "colab": {
          "base_uri": "https://localhost:8080/"
        },
        "id": "lIV7OyYboNdf",
        "outputId": "213bb6df-e690-493b-b1f9-31f9a0324255"
      },
      "outputs": [
        {
          "name": "stdout",
          "output_type": "stream",
          "text": [
            "14\n",
            "14\n",
            "a += b: 17\n",
            "a -= b: 14\n",
            "a *= b: 42\n"
          ]
        }
      ],
      "source": [
        "# Assignment to a new variable\n",
        "c = a + b\n",
        "print(c)\n",
        "\n",
        "# Assignment to (overwrite) and existing variable\n",
        "a = a + b\n",
        "print(a)              # a has been increased by 3\n",
        "\n",
        "# Assignment operators simplify this syntax (also /=, //=, %=)\n",
        "a += b\n",
        "print(\"a += b:\", a)\n",
        "a -= b\n",
        "print(\"a -= b:\", a)\n",
        "a *= b\n",
        "print(\"a *= b:\", a)"
      ]
    },
    {
      "cell_type": "markdown",
      "metadata": {
        "id": "SzF7ft0iq50e",
        "slideshow": {
          "slide_type": "slide"
        }
      },
      "source": [
        "### Comparison Operators\n",
        "*   Comparing data values are a fundamental element of computation\n",
        "*   Standard mathematical comparisons are available\n",
        "\n"
      ]
    },
    {
      "cell_type": "code",
      "execution_count": 18,
      "metadata": {
        "colab": {
          "base_uri": "https://localhost:8080/"
        },
        "id": "MVm_72u3rsE5",
        "outputId": "aa05115c-4758-41a2-aa9a-d61716e366cb"
      },
      "outputs": [
        {
          "name": "stdout",
          "output_type": "stream",
          "text": [
            "age == 4: False\n",
            "age != 4: True\n",
            "age > 4: True\n",
            "age >= 4: True\n",
            "age < 4: False\n",
            "age <= 4: False\n"
          ]
        }
      ],
      "source": [
        "age = 5\n",
        "\n",
        "print(\"age == 4:\", age == 4)   # equality (equal to)\n",
        "print(\"age != 4:\", age != 4)   # inequality (not equal to)\n",
        "print(\"age > 4:\", age > 4)     # greater than\n",
        "print(\"age >= 4:\", age >= 4)   # greater than or equal to\n",
        "print(\"age < 4:\", age < 4)     # less than\n",
        "print(\"age <= 4:\", age <= 4)   # less than or equal to"
      ]
    },
    {
      "cell_type": "markdown",
      "metadata": {
        "slideshow": {
          "slide_type": "slide"
        }
      },
      "source": [
        "#### Comparison Outputs\n",
        "*   The output of a comparison operator is a simple boolean (True/False)\n",
        "*   Outputs can be combined in other functions or writen to variables\n",
        "*   ❗note the difference between double `==` and single `=` equals symbols. Double is a comparison operator, and single is the assignment operator.\n"
      ]
    },
    {
      "cell_type": "code",
      "execution_count": 19,
      "metadata": {
        "colab": {
          "base_uri": "https://localhost:8080/"
        },
        "id": "ZVOYouQRt0-l",
        "outputId": "021699ae-25eb-48b5-854d-c4c09bab7ede"
      },
      "outputs": [
        {
          "name": "stdout",
          "output_type": "stream",
          "text": [
            "False\n"
          ]
        }
      ],
      "source": [
        "result = a == 4\n",
        "print(result)"
      ]
    },
    {
      "cell_type": "markdown",
      "metadata": {
        "id": "z7jdjt4hipdg",
        "slideshow": {
          "slide_type": "slide"
        }
      },
      "source": [
        "### Logical Operators\n",
        "*   Logical operators allow you to combine boolean results to form more complex expressions.\n",
        "*   As with arithmetic operators, logical operators have an order of precedence https://docs.python.org/3/reference/expressions.html#operator-precedence"
      ]
    },
    {
      "cell_type": "code",
      "execution_count": 20,
      "metadata": {
        "colab": {
          "base_uri": "https://localhost:8080/"
        },
        "id": "k_2ZQ98diw7H",
        "outputId": "ed1d1f1d-e526-42e0-99ce-1609e90f331b"
      },
      "outputs": [
        {
          "name": "stdout",
          "output_type": "stream",
          "text": [
            "asthma and female = False\n",
            "asthma or female = True\n",
            "not asthma = True\n",
            "female and not asthma = True\n"
          ]
        }
      ],
      "source": [
        "asthma = False\n",
        "female = True\n",
        "\n",
        "# 'and' operator returns True if and only if inputs are both True\n",
        "print(\"asthma and female =\", asthma and female)\n",
        "\n",
        "# 'or' operator returns True if either inputs are True\n",
        "print(\"asthma or female =\", asthma or female)\n",
        "\n",
        "# 'not' operator returns the negation of the input\n",
        "# (i.e. True => False / False => True)\n",
        "print(\"not asthma =\", not asthma)\n",
        "print(\"female and not asthma =\", female and not asthma)"
      ]
    },
    {
      "cell_type": "markdown",
      "metadata": {
        "slideshow": {
          "slide_type": "slide"
        }
      },
      "source": [
        "### ❓ Operators Quick Check\n",
        "1. What would be result of:  \n",
        "    ```2 ** 3```\n",
        "1. What would be result of:  \n",
        "    ```9 - 4 // 3```\n",
        "1. What would be result of:  \n",
        "    ```not (true and false)```\n",
        "1. What would be result of:  \n",
        "    ```not ('tree' != 'cat') or (6 <= 7) or (4724 / 63 > 75)```"
      ]
    },
    {
      "cell_type": "markdown",
      "metadata": {
        "id": "6bSAPF44e2Pb",
        "slideshow": {
          "slide_type": "slide"
        }
      },
      "source": [
        "## Type Conversion (Casting)\n",
        "*   There are often times when dealing with real data when you need to convert data between types\n",
        "*   Some conversions are obvious, others might be counterintuitive\n",
        "*   To understand each, see the detail in the documentation: https://docs.python.org/3/library/functions.html\n",
        "*   Here we demonstrate casting by building a BMI calculator\n",
        "    *   `input()` is a built-in function that allows you to receive an input from the user"
      ]
    },
    {
      "cell_type": "code",
      "execution_count": 21,
      "metadata": {
        "colab": {
          "base_uri": "https://localhost:8080/"
        },
        "id": "3oAtLWHfjH9h",
        "outputId": "8a509f9d-8f93-46f2-8f78-b515158f5e6e"
      },
      "outputs": [
        {
          "name": "stdout",
          "output_type": "stream",
          "text": [
            "Weight is 80\n",
            "Height is 2\n",
            "<class 'str'>\n",
            "<class 'str'>\n",
            "bmi = 20.0\n"
          ]
        }
      ],
      "source": [
        "# The input function, reads an input value from the user\n",
        "weight = input('Input weight (kg)... ')\n",
        "height = input('Input height (m)... ')\n",
        "print(\"Weight is\", weight)\n",
        "print(\"Height is\", height)\n",
        "\n",
        "# Apply an arithmetic operator compute BMI (THESE DO NOT RUN)\n",
        "# bmi = weight / height ** 2\n",
        "print(type(weight))\n",
        "print(type(height))\n",
        "\n",
        "# Convert the string to an integer or float\n",
        "weight = int(weight)\n",
        "height = float(height)\n",
        "bmi = weight / height ** 2\n",
        "print('bmi =', bmi)"
      ]
    },
    {
      "cell_type": "markdown",
      "metadata": {
        "slideshow": {
          "slide_type": "slide"
        }
      },
      "source": [
        "#### Boolean Conversion\n",
        "*   All types can be converted to `bool` and this is often used in Python to simplify comparisons\n",
        "*   It is not recommended to do this unless necessary as it can harm readability"
      ]
    },
    {
      "cell_type": "code",
      "execution_count": 22,
      "metadata": {},
      "outputs": [
        {
          "name": "stdout",
          "output_type": "stream",
          "text": [
            "bool(0) = False\n",
            "bool(1) = True\n",
            "bool(3452) = True\n",
            "bool('') = False\n",
            "bool('bus') = True\n"
          ]
        }
      ],
      "source": [
        "print(\"bool(0) =\", bool(0))         # 0 becomes False\n",
        "print(\"bool(1) =\", bool(1))         # anything non-zero becomes True\n",
        "print(\"bool(3452) =\", bool(3452))\n",
        "print(\"bool('') =\", bool(''))       # empty string becomes False\n",
        "print(\"bool('bus') =\", bool('bus')) # any non-empty string becomes True"
      ]
    },
    {
      "cell_type": "markdown",
      "metadata": {
        "id": "Bc97L7w8ua8e",
        "slideshow": {
          "slide_type": "slide"
        }
      },
      "source": [
        "## Control Flow\n",
        "This section will cover control flow statements such as if statements and loops"
      ]
    },
    {
      "cell_type": "markdown",
      "metadata": {
        "id": "ZZzRpTimTnvz",
        "slideshow": {
          "slide_type": "slide"
        }
      },
      "source": [
        "### If...Else\n",
        "The `If...Else` instruction allows your code to perform different tasks based on some supplied condition.\n",
        "\n",
        "These instructions are of the format:\n",
        "> If `condition` then do `action`\n",
        "\n",
        "But can also include a default action:\n",
        "> If `condition` then do `action`  \n",
        "> else do `default action`\n",
        "\n",
        "They can even include multiple conditions:\n",
        "> If `condition 1` then do `action 1`  \n",
        ">   else if `condition 2` then do `action 2`  \n",
        ">   else do `default action`"
      ]
    },
    {
      "cell_type": "markdown",
      "metadata": {
        "slideshow": {
          "slide_type": "slide"
        }
      },
      "source": [
        "#### If...Else\n",
        "*   Here we create a program that analyses an input resting heart rate using if...else\n",
        "*   **WARNING: Indentation of the `action` code is very important **"
      ]
    },
    {
      "cell_type": "code",
      "execution_count": 23,
      "metadata": {
        "colab": {
          "base_uri": "https://localhost:8080/"
        },
        "id": "-pHdadj_UagJ",
        "outputId": "3e2cfaa4-79d8-4c83-d1ce-3acb6ecbdca0"
      },
      "outputs": [
        {
          "name": "stdout",
          "output_type": "stream",
          "text": [
            "Heart rate of 150.0 BPM indicates tachycardia\n",
            "Heart rate of 150.0 BPM indicates tachycardia\n"
          ]
        }
      ],
      "source": [
        "heart_rate = float(input('Input resting heart rate (BPM)... '))\n",
        "\n",
        "# Example if...then\n",
        "if heart_rate > 100:\n",
        "  print('Heart rate of ' + str(heart_rate) + ' BPM indicates tachycardia')\n",
        "\n",
        "# Example if...then...else\n",
        "if heart_rate > 100:\n",
        "  print('Heart rate of ' + str(heart_rate) + ' BPM indicates tachycardia')\n",
        "else:\n",
        "  print('Heart rate of ' + str(heart_rate) + ' BPM is normal \\U0001f600')"
      ]
    },
    {
      "cell_type": "markdown",
      "metadata": {
        "slideshow": {
          "slide_type": "slide"
        }
      },
      "source": [
        "#### If...Elif...Else\n",
        "*   Here we extend the example to consider low heart rate conditions\n",
        "*   We also include a more complicated condition "
      ]
    },
    {
      "cell_type": "code",
      "execution_count": 24,
      "metadata": {},
      "outputs": [
        {
          "name": "stdout",
          "output_type": "stream",
          "text": [
            "Heart rate of 150.0 BPM indicates TACHYCARDIA\n",
            "Heart rate of 150.0 BPM indicates adult tachycardia\n",
            " - Age of 34.0 years\n",
            " - Indicates adult tachycardia\n"
          ]
        }
      ],
      "source": [
        "heart_rate = float(input('Input resting heart rate (BPM)... '))\n",
        "\n",
        "# Example if...elseif...else\n",
        "if heart_rate > 100:\n",
        "  print('Heart rate of ' + str(heart_rate) + ' BPM indicates TACHYCARDIA')\n",
        "elif heart_rate < 60:\n",
        "  print('Heart rate of ' + str(heart_rate) + ' BPM indicates BRADYCARDIA ')\n",
        "else:\n",
        "  print('Heart rate of ' + str(heart_rate) + ' BPM is normal \\U0001f600')\n",
        "\n",
        "# The conditions can be anything that evaluates to a boolean\n",
        "age = float(input('Input age (years)... '))\n",
        "\n",
        "if heart_rate > 100 and age >= 18:\n",
        "  print('Heart rate of ' + str(heart_rate) + ' BPM indicates adult tachycardia')\n",
        "  print(' - Age of ' + str(age) + ' years')\n",
        "  print(' - Indicates adult tachycardia')"
      ]
    },
    {
      "cell_type": "markdown",
      "metadata": {
        "id": "azZZRNjacp-6",
        "slideshow": {
          "slide_type": "slide"
        }
      },
      "source": [
        "### For... Loops\n",
        "*   For loops allow you to iterate over a sequence of inputs and apply some operations for/to each of them\n",
        "*   They have the structure:  \n",
        "\n",
        "> For each `object` in `sequence` do `action`\n",
        "\n",
        "*   This is useful if you want to repeat the same action many times\n",
        "*   For example, if we want to print all of the names in a list"
      ]
    },
    {
      "cell_type": "markdown",
      "metadata": {
        "slideshow": {
          "slide_type": "slide"
        }
      },
      "source": [
        "#### For... loop Example\n",
        "*   If we want to print a list of patient names we can do the following...\n",
        "\n",
        "```\n",
        "print(patients[0])\n",
        "print(patients[1])\n",
        "print(patients[2])\n",
        "etc.\n",
        "```\n",
        "\n",
        "*   However, this is inefficient for long lists\n",
        "*   And making changes (e.g. change the print to `print('Name:', patients[0])`) is difficult\n",
        "*   A for...loop implementation is as follows:"
      ]
    },
    {
      "cell_type": "code",
      "execution_count": 25,
      "metadata": {
        "colab": {
          "base_uri": "https://localhost:8080/"
        },
        "id": "i15Hj6JDhcoI",
        "outputId": "fc0b8301-39ce-4e34-c193-06bc29e28efc"
      },
      "outputs": [
        {
          "name": "stdout",
          "output_type": "stream",
          "text": [
            "Oliver\n",
            "Amelia\n",
            "Noah\n",
            "Emma\n",
            "Liam\n"
          ]
        }
      ],
      "source": [
        "patients = ['Oliver', 'Amelia', 'Noah', 'Emma', 'Liam']\n",
        "\n",
        "# For each 'name' in the list 'patients'\n",
        "for name in patients:\n",
        "  print(name)"
      ]
    },
    {
      "cell_type": "markdown",
      "metadata": {
        "slideshow": {
          "slide_type": "slide"
        }
      },
      "source": [
        "#### For...loop Special Statements\n",
        "*   There are two special statements that modify for loops\n",
        "    *   break - exits/stops the loop entirely\n",
        "    *   continue - stops the current iteration and jumps to the next iteration\n",
        "\n",
        "#### For...loop Break\n",
        "*   The 'break' allows you to terminate on given conditions\n",
        "*   e.g. Stop printing patient names when you find one with fewer than 6 characters"
      ]
    },
    {
      "cell_type": "code",
      "execution_count": 26,
      "metadata": {},
      "outputs": [
        {
          "name": "stdout",
          "output_type": "stream",
          "text": [
            "Oliver\n",
            "Amelia\n",
            "Noah\n",
            " * break-ing\n"
          ]
        }
      ],
      "source": [
        "for name in patients:\n",
        "  print(name)\n",
        "  if (len(name) < 6):\n",
        "    print(' * break-ing')\n",
        "    break"
      ]
    },
    {
      "cell_type": "markdown",
      "metadata": {
        "slideshow": {
          "slide_type": "slide"
        }
      },
      "source": [
        "#### For...loop Continue\n",
        "*   The 'continue' allows you to skip on given conditions\n",
        "*   e.g. Do not print patient names ending with an 'a'"
      ]
    },
    {
      "cell_type": "code",
      "execution_count": 27,
      "metadata": {},
      "outputs": [
        {
          "name": "stdout",
          "output_type": "stream",
          "text": [
            "Oliver\n",
            " * continue-ing\n",
            "Noah\n",
            " * continue-ing\n",
            "Liam\n"
          ]
        }
      ],
      "source": [
        "for name in patients:\n",
        "  if (name[-1] == 'a'):\n",
        "    print(' * continue-ing')\n",
        "    continue\n",
        "  print(name)"
      ]
    },
    {
      "cell_type": "markdown",
      "metadata": {
        "slideshow": {
          "slide_type": "slide"
        }
      },
      "source": [
        "#### Range Function\n",
        "*   The `range()` function is often helpful when writing for...loops\n",
        "*   This generates a sequence of numbers between limits and can be used to create loop indices\n",
        "*   e.g. combining it with the `len()` function we can generate indices for a list and use it to index across two lists simultaneously"
      ]
    },
    {
      "cell_type": "code",
      "execution_count": 28,
      "metadata": {},
      "outputs": [
        {
          "name": "stdout",
          "output_type": "stream",
          "text": [
            "101 Oliver\n",
            "214 Amelia\n",
            "394 Noah\n",
            "395 Emma\n",
            "619 Liam\n"
          ]
        }
      ],
      "source": [
        "# A new corresponding list of medical record numbers for each patient\n",
        "mrn = [101, 214, 394, 395, 619]\n",
        "\n",
        "# Compute the number of patients\n",
        "n_patients = len(patients)\n",
        "\n",
        "# For each element in the lists\n",
        "for index in range(n_patients):\n",
        "  \n",
        "  # Print the MRN and corresponding patient name\n",
        "  print(mrn[index], patients[index])"
      ]
    },
    {
      "cell_type": "markdown",
      "metadata": {
        "id": "xJPNeNnmk6AG",
        "slideshow": {
          "slide_type": "slide"
        }
      },
      "source": [
        "### While... Loops\n",
        "*   While loops allow you to repeatedly apply some code.\n",
        "*   They have the structure:\n",
        "\n",
        "> While `condition` do `action`\n",
        "\n",
        "*   Again, note the importance of indentation.\n",
        "*   e.g. Here, we print the MRN and associated patient name (again) using a while...loop"
      ]
    },
    {
      "cell_type": "code",
      "execution_count": 29,
      "metadata": {
        "colab": {
          "base_uri": "https://localhost:8080/"
        },
        "id": "-lCIfkjbk--7",
        "outputId": "5fa8a051-3b1f-454c-80eb-5dc281dbfa2e"
      },
      "outputs": [
        {
          "name": "stdout",
          "output_type": "stream",
          "text": [
            "101 Oliver\n",
            "214 Amelia\n",
            "394 Noah\n",
            "395 Emma\n",
            "619 Liam\n"
          ]
        }
      ],
      "source": [
        "# Initialise the index to zero\n",
        "index = 0\n",
        "\n",
        "# Keep looping until the index is out of the list\n",
        "while index < len(mrn):\n",
        "  print(mrn[index], patients[index])\n",
        "\n",
        "  # Increment the index for the next loop\n",
        "  index += 1\n"
      ]
    },
    {
      "cell_type": "markdown",
      "metadata": {
        "slideshow": {
          "slide_type": "slide"
        }
      },
      "source": [
        "#### While Loop Conditions\n",
        "*   While loop conditions can contain any boolean expression\n",
        "*   e.g. Stop printing the MRN/patient when their name has fewer than 6 characters"
      ]
    },
    {
      "cell_type": "code",
      "execution_count": 30,
      "metadata": {},
      "outputs": [
        {
          "name": "stdout",
          "output_type": "stream",
          "text": [
            "101 Oliver\n",
            "214 Amelia\n"
          ]
        }
      ],
      "source": [
        "index = 0\n",
        "while index < len(mrn) and len(patients[index]) >= 6:\n",
        "  print(mrn[index], patients[index])\n",
        "  index += 1\n"
      ]
    },
    {
      "cell_type": "markdown",
      "metadata": {
        "id": "HcEBQa6uN4uw",
        "slideshow": {
          "slide_type": "slide"
        }
      },
      "source": [
        "## ❓ Exercise 1.1 - Printing 1 to 1,000\n",
        "Write some code to print the numbers from 1 to 1,000 (inclusive), skipping the numbers that are a multiple of 4 or those that end in a 4.\n",
        "*   e.g. `1, 2, 3, [skip 4] 5, 6, 7, [skip 8] 9, 10, 11, [skip 12] 13, [skip 14], 15 etc...`\n",
        "*   Start by printing all numbers 1 to 1,000\n",
        "*   Then, identify if numbers are multiples of 4\n",
        "*   Then, work out how to skip printing those numbers\n",
        "*   Then, identify if numbers end in a 4 (hint - strings)\n",
        "*   Then, skip those numbers too"
      ]
    },
    {
      "cell_type": "markdown",
      "metadata": {
        "id": "kEvILWWdrC36",
        "slideshow": {
          "slide_type": "slide"
        }
      },
      "source": [
        "## ❓ Exercise 1.2 - BMI Calculator\n",
        "Expand on the earlier BMI calculation example to add the following functionality:\n",
        "*   Add a new input that lets the user specify whether they are going to input metric (kg and m) or imperial (lb and in) unit values. i.e. have an initial question that says `Enter M to use metric or I to use imperial units...`\n",
        "*   Update the calculation for cases when imperial units are used - [hint](https://www.cdc.gov/nccdphp/dnpao/growthcharts/training/bmiage/page5_2.html)\n",
        "*   Also print the BMI category from `underweight`, `healthy`, `overweight`, `obese`, `severely obese` [hint](https://www.nhsinform.scot/healthy-living/food-and-nutrition/healthy-eating-and-weight-management/body-mass-index-bmi/#:~:text=women%20and%20athletes.-,BMI%20ranges,-Your%20BMI%20will)\n",
        "*   Your user wants to know how much weight they should/could gain/loose. Print the BMI values and associated categories for a range of weights between 50% of the input weight and 150% of the input weight.\n",
        " *  You should use a loop\n",
        " *  You can spread the weights between 50% and 150% of the input weight as you choose, but probably print about every 10 kg/lb\n",
        " *  hint - the `range` function can help generate your weight values https://docs.python.org/3/library/stdtypes.html#ranges\n",
        " *  e.g. If the user input a weight of 100 kg and a height of 180 cm, the table should print the following table:  \n",
        "```\n",
        "height, weight, bmi,  category\n",
        "180 cm, 50 kg,  15.4, underweight\n",
        "180 cm, 60 kg,  18.5, underweight\n",
        "180 cm, 70 kg,  21.6, healthy\n",
        "...\n",
        "etc.\n",
        "...\n",
        "180 cm, 150 kg, 46.3, severely obese\n",
        "```\n",
        "\n"
      ]
    },
    {
      "cell_type": "markdown",
      "metadata": {
        "id": "CmqJ9dmnjd77",
        "slideshow": {
          "slide_type": "slide"
        }
      },
      "source": [
        "# Functions\n",
        "*   Almost everything you use in Python to modify and create variables is a function\n",
        "*   Functions are fundamental to modern programming as they enable re-use of code\n",
        "*   Functions can take an input and/or produce an output\n",
        "*   Functions that are linked to a specific object are called methods"
      ]
    },
    {
      "cell_type": "code",
      "execution_count": 31,
      "metadata": {
        "colab": {
          "base_uri": "https://localhost:8080/"
        },
        "id": "LMinBhAsA8d2",
        "outputId": "085216ff-a8ac-4808-9edd-dccef2350cf5"
      },
      "outputs": [
        {
          "name": "stdout",
          "output_type": "stream",
          "text": [
            "5\n",
            "['Liam', 'Emma', 'Noah', 'Amelia', 'Oliver']\n"
          ]
        }
      ],
      "source": [
        "patients = ['Oliver', 'Amelia', 'Noah', 'Emma', 'Liam']\n",
        "\n",
        "# len is a function with:\n",
        "#   - a sequence (list) as an input\n",
        "#   - an integer as an output\n",
        "print(len(patients))\n",
        "\n",
        "# reverse is a method of the list object, with:\n",
        "#   - no inputs\n",
        "#   - no outputs (it modifies the list in-place)\n",
        "patients.reverse()\n",
        "print(patients)"
      ]
    },
    {
      "cell_type": "markdown",
      "metadata": {
        "id": "zy0xHqMwkBu7",
        "slideshow": {
          "slide_type": "slide"
        }
      },
      "source": [
        "## Creating Functions\n",
        "*   Creating your own function allows you to reuse your own code, this improves efficiency and readability\n",
        "*   As with loops, note and be careful with indentation\n",
        "*   Here we create a function that calculates the BMI from input height and weight\n",
        "*   The input parameters are height (float) and weight (float)\n",
        "*   The output is BMI (float)\n",
        "\n"
      ]
    },
    {
      "cell_type": "code",
      "execution_count": 32,
      "metadata": {
        "colab": {
          "base_uri": "https://localhost:8080/"
        },
        "id": "bSGr13tvJddu",
        "outputId": "c077992c-f41b-46a3-e40f-46c27a376aea"
      },
      "outputs": [
        {
          "data": {
            "text/plain": [
              "27.777777777777775"
            ]
          },
          "execution_count": 32,
          "metadata": {},
          "output_type": "execute_result"
        }
      ],
      "source": [
        "def calculate_bmi(height_m, weight_kg):\n",
        "  bmi = weight_kg / height_m ** 2\n",
        "  return bmi\n",
        "\n",
        "# Call the function\n",
        "calculate_bmi(1.80, 90)"
      ]
    },
    {
      "cell_type": "markdown",
      "metadata": {
        "slideshow": {
          "slide_type": "slide"
        }
      },
      "source": [
        "### Default Parameters\n",
        "*   It is possible for your function to have default parameters, that it uses if none is explicitly provided\n",
        "*   Here we add the is_metric parameter that tells the function if the height and weight are metric, else they are imperial\n",
        "*   By adding `is_metric = True` we set the default to be metric if the input us not specified"
      ]
    },
    {
      "cell_type": "code",
      "execution_count": 33,
      "metadata": {
        "colab": {
          "base_uri": "https://localhost:8080/"
        },
        "id": "lE-63FojNQdh",
        "outputId": "4b15e817-bd87-4ac2-9a95-ed9fcc84c4bf"
      },
      "outputs": [
        {
          "name": "stdout",
          "output_type": "stream",
          "text": [
            "Metric = 27.777777777777775\n",
            "Imperial = 27.772559430834914\n"
          ]
        }
      ],
      "source": [
        "# Define the function with a default argument for is_metric\n",
        "def calculate_bmi(height, weight, is_metric = True):\n",
        "  bmi = weight / height ** 2\n",
        "  if not is_metric:\n",
        "    bmi *= 703\n",
        "  return bmi\n",
        "\n",
        "print('Metric =', calculate_bmi(1.8, 90))\n",
        "print('Imperial =', calculate_bmi(70.87, 198.42, False))"
      ]
    },
    {
      "cell_type": "markdown",
      "metadata": {
        "slideshow": {
          "slide_type": "slide"
        }
      },
      "source": [
        "### Function Types\n",
        "*   Since Python 3.5 you can provide 'hints' to the function to specify which types it expects for parameters and outputs\n",
        "*   The colon `:` after a parameter name is used to specifiy its type\n",
        "*   The right arrow `->` after the function definition is used to specify its output type\n",
        "*   Here we also show the use of a docstring\n",
        "    *   This comment added right after the definition allows users to understand what the function should do"
      ]
    },
    {
      "cell_type": "code",
      "execution_count": 34,
      "metadata": {
        "colab": {
          "base_uri": "https://localhost:8080/",
          "height": 53
        },
        "id": "wZInz3E0M1iQ",
        "outputId": "9ab39014-c639-473f-d0f8-72f5435edf33"
      },
      "outputs": [
        {
          "name": "stdout",
          "output_type": "stream",
          "text": [
            "27.777777777777775\n"
          ]
        },
        {
          "data": {
            "text/plain": [
              "'Calculate BMI from height in m and weight in kg'"
            ]
          },
          "execution_count": 34,
          "metadata": {},
          "output_type": "execute_result"
        }
      ],
      "source": [
        "def calculate_bmi(height: float, weight: float, is_metric: bool = True) -> float:\n",
        "  \"\"\"Calculate BMI from height in m and weight in kg\"\"\"\n",
        "\n",
        "  bmi = weight / height ** 2\n",
        "  if not is_metric:\n",
        "    bmi *= 703\n",
        "\n",
        "  return bmi\n",
        "\n",
        "# Call the function\n",
        "print(calculate_bmi(1.80, 90))\n",
        "\n",
        "# Check the docstring\n",
        "calculate_bmi.__doc__"
      ]
    },
    {
      "cell_type": "markdown",
      "metadata": {
        "id": "RUEOTxCWjk9u",
        "slideshow": {
          "slide_type": "slide"
        }
      },
      "source": [
        "## Importing Functions and Modules\n",
        "*   All of the functions you have seen so far are built-in functions that are available in the Python environment - the 'Python Standard Library'\n",
        "*   Many additional functions can be imported from modules in the Python Standard Library\n",
        "*   Modules are collections of definitions and statements, e.g. functions, constants, objects, etc.\n",
        "*   A list of modules in the Python Standard Library is available here (from 'data types' onwards) https://docs.python.org/3/library/index.html\n"
      ]
    },
    {
      "cell_type": "code",
      "execution_count": 35,
      "metadata": {
        "colab": {
          "base_uri": "https://localhost:8080/"
        },
        "id": "90OBeFrAEXyr",
        "outputId": "fb48b1bf-2a03-4900-ae61-ede789dc3f72"
      },
      "outputs": [
        {
          "name": "stdout",
          "output_type": "stream",
          "text": [
            "3.141592653589793\n",
            "3.321928094887362\n"
          ]
        }
      ],
      "source": [
        "# Import a whole package with...\n",
        "import math\n",
        "\n",
        "# Access package definitions with the following syntax\n",
        "print(math.pi)\n",
        "print(math.log2(10))"
      ]
    },
    {
      "cell_type": "markdown",
      "metadata": {
        "slideshow": {
          "slide_type": "slide"
        }
      },
      "source": [
        "### Importing Specific Components\n",
        "*   It is possible to import only specific components (e.g. functions, variables) from a module/package, rather than the whole thing\n",
        "*   `from X import Y`\n",
        "*   This has two benefits:\n",
        "    *   You can reference the components directly, without having to include the package (e.g. `pi` rather than `math.pi`)\n",
        "    *   You are not importing components that you do not need and will keep your namespace 'tidy'\n",
        "*   However, there is a risk that you can have two components with the same name in your namespace and this can create unexpected behavior"
      ]
    },
    {
      "cell_type": "code",
      "execution_count": 36,
      "metadata": {
        "colab": {
          "base_uri": "https://localhost:8080/"
        },
        "id": "shVTy12-F854",
        "outputId": "18796928-931f-4c4a-c980-e54095714426"
      },
      "outputs": [
        {
          "name": "stdout",
          "output_type": "stream",
          "text": [
            "3.141592653589793\n",
            "2.584962500721156\n",
            "Return the base 2 logarithm of x.\n"
          ]
        }
      ],
      "source": [
        "# Import only specific parts of the package with...\n",
        "from math import pi, log2\n",
        "\n",
        "# Access definitions directly (without math.)\n",
        "print(pi)\n",
        "print(log2(6))\n",
        "\n",
        "# Functions often have 'docstrings' that explain what they do\n",
        "print(log2.__doc__)"
      ]
    },
    {
      "cell_type": "markdown",
      "metadata": {
        "slideshow": {
          "slide_type": "slide"
        }
      },
      "source": [
        "### Module Aliases\n",
        "*   It is possible to give a module an alias when you import it\n",
        "*   `import X as Y`\n",
        "*   This can improve the conciseness/readability of your code by shortening long module names while avoiding the risk of namespace conflicts\n",
        "*   For some of the packages you will use, module aliases are ubiquitous e.g.\n",
        "    *   `import numpy as np`\n",
        "    *   `import pandas as pd`\n",
        "    *   `import matplotlib.pyplot as plt`"
      ]
    },
    {
      "cell_type": "code",
      "execution_count": 37,
      "metadata": {
        "colab": {
          "base_uri": "https://localhost:8080/"
        },
        "id": "HD5z2bl0HRKu",
        "outputId": "3cc0dae2-67ae-49b4-abcc-40436e171d21"
      },
      "outputs": [
        {
          "name": "stdout",
          "output_type": "stream",
          "text": [
            "3.141592653589793\n",
            "3.321928094887362\n"
          ]
        }
      ],
      "source": [
        "# Import a whole package while giving it an alias\n",
        "import math as m\n",
        "\n",
        "# Access package definitions with the following syntax\n",
        "print(m.pi)\n",
        "print(m.log2(10))"
      ]
    },
    {
      "cell_type": "markdown",
      "metadata": {
        "id": "vNewMiTajs1Y",
        "slideshow": {
          "slide_type": "slide"
        }
      },
      "source": [
        "## External Functions and Packages\n",
        "*   In addition to the Standard Python Library modules, there are 100,000s of externally available packages that contain modules\n",
        "*   Most are available through the Python Package Index (PyPI) - https://pypi.org/\n",
        "*   Before you can use modules from these packages, you need to install them, with `pip`"
      ]
    },
    {
      "cell_type": "code",
      "execution_count": 38,
      "metadata": {
        "colab": {
          "base_uri": "https://localhost:8080/"
        },
        "id": "LZJN-jyfR4IJ",
        "outputId": "27fe2737-6941-429a-cd6c-427864dc4f62"
      },
      "outputs": [
        {
          "name": "stdout",
          "output_type": "stream",
          "text": [
            "Requirement already satisfied: numpy in /Users/stuartbowyer/ICL/SDSAI/venv/lib/python3.12/site-packages (2.1.1)\n",
            "Note: you may need to restart the kernel to use updated packages.\n"
          ]
        },
        {
          "data": {
            "text/plain": [
              "array([ 0,  1,  2,  3,  4,  5,  6,  7,  8,  9, 10, 11, 12, 13, 14])"
            ]
          },
          "execution_count": 38,
          "metadata": {},
          "output_type": "execute_result"
        }
      ],
      "source": [
        "# The following code installed the 'numpy' package with pip in Colab\n",
        "%pip install numpy\n",
        "\n",
        "# Numpy can now be imported and used\n",
        "import numpy\n",
        "numpy.arange(15, dtype=int)"
      ]
    },
    {
      "cell_type": "markdown",
      "metadata": {
        "id": "u0P4DtvpkIJt",
        "slideshow": {
          "slide_type": "slide"
        }
      },
      "source": [
        "## ❓ Exercise 1.3 - Identifying Elevated CRP Values\n",
        "You have been given the (fake) data of five patients' C-Reactive Protein (CRP) tests. Write a function that computes and returns how many tests any selected patient-of-interest has had where their CRP values were elevated.\n",
        "\n",
        "Each patient has multiple CRP values recorded in the dataset and all of the values are mixed together, randomly. To identify which value associates with which patient, you have also been given an aligned list of patient names.\n",
        "\n",
        "*For example*:\n",
        "> The first four entries of the test value list, `crp`, looks like this:  \n",
        "> `crp = ['0.0 mg/L', '0.1301 mg/L', '1.4855 mg/L', '0.6009 mg/L', ...`\n",
        ">\n",
        "> And the first four entries of the patients list, `patients` looks like this:  \n",
        "> `patients = ['Liam', 'Emma', 'Oliver', 'Oliver', ...`\n",
        ">\n",
        "> This means that the first value `0.0` was from `Liam`, the second value `0.1301` was from `Emma`, the third value `1.4855` was from `Oliver` as was the fourth value `0.6009`.\n",
        "\n",
        "For this purpose, we will define an elevated CRP value as being more than 1.0 mg/L higher than the mean of all CRP tests that the specific patient has ever had.\n"
      ]
    },
    {
      "cell_type": "markdown",
      "metadata": {
        "slideshow": {
          "slide_type": "slide"
        }
      },
      "source": [
        "### Additional Requirements\n",
        "Your function should:\n",
        "*   Be called `count_elevated_crp`\n",
        "*   Take three inputs, `crp` (the full list of CRP values), `patients` (the full list of patient names associated with the values), and `poi` (the name of a single patient of interest).\n",
        "*   Return the integer number of tests that patient `poi` has in the dataset which are elevated.\n",
        "\n",
        "**You do not need to use any additional modules to complete this exercise. You will learn how to do this more efficiently with some external modules in the next session.**"
      ]
    },
    {
      "cell_type": "markdown",
      "metadata": {
        "slideshow": {
          "slide_type": "slide"
        }
      },
      "source": [
        "### Code Samples\n",
        "Here is some code to load the data and get you started"
      ]
    },
    {
      "cell_type": "code",
      "execution_count": 1,
      "metadata": {
        "colab": {
          "base_uri": "https://localhost:8080/",
          "height": 271
        },
        "id": "rZCzN65oOSwK",
        "outputId": "dfd8a3be-5d63-4991-edd2-eb487a8628b4",
        "tags": [
          "remove-output"
        ]
      },
      "outputs": [
        {
          "name": "stdout",
          "output_type": "stream",
          "text": [
            "/nix/store/na2a6spzlqg0rrgz8462bla7hxvygjcq-python3-3.11.9/bin/python: No module named pip\n",
            "Note: you may need to restart the kernel to use updated packages.\n",
            "['Amelia', 'Emma', 'Liam', 'Noah', 'Oliver']\n",
            "['0.1912 mg/L', '0.0697 mg/L', '6.063 mg/L', '8.7888 mg/L', '6.1414 mg/L', '5.8497 mg/L', '2.4352 mg/L', '2.4059 mg/L', '7.8755 mg/L', '9.4961 mg/L']\n",
            "['Liam', 'Emma', 'Noah', 'Amelia', 'Noah', 'Noah', 'Emma', 'Amelia', 'Noah', 'Noah']\n",
            "Amelia had None tests more than 1 mg/L above average\n",
            "Emma had None tests more than 1 mg/L above average\n",
            "Liam had None tests more than 1 mg/L above average\n",
            "Noah had None tests more than 1 mg/L above average\n",
            "Oliver had None tests more than 1 mg/L above average\n"
          ]
        }
      ],
      "source": [
        "# This code loads the sample data for the tutorial\n",
        "# YOU DO NOT NEED TO UNDERSTAND THIS YET #######################################\n",
        "%pip install pandas\n",
        "import pandas as pd\n",
        "crp_data = pd.read_csv('https://teaching.bowyer.io/SDSAI/1/data/dummy_crp_data.csv')\n",
        "crp = crp_data['crp'].tolist()\n",
        "patients = crp_data['patients'].tolist()\n",
        "names = list(set(patients))\n",
        "names.sort()\n",
        "################################################################################\n",
        "\n",
        "print(names)          # These are the names of patients in the dataset\n",
        "print(crp[0:10])      # These are the CRP values\n",
        "print(patients[0:10]) # These are the patients for which each CRP value was taken\n",
        "\n",
        "def count_elevated_crp(crp, patients, poi):\n",
        "  pass\n",
        "\n",
        "# A loop to help test your function.\n",
        "# For each possible patient, run your function and print the result\n",
        "for poi in names:\n",
        "  elevated_tests = count_elevated_crp(crp, patients, poi)\n",
        "  print(poi, 'had', elevated_tests,'tests more than 1 mg/L above average')"
      ]
    },
    {
      "cell_type": "markdown",
      "metadata": {
        "slideshow": {
          "slide_type": "slide"
        }
      },
      "source": [
        "# Wrap Up"
      ]
    },
    {
      "cell_type": "markdown",
      "metadata": {
        "slideshow": {
          "slide_type": "slide"
        }
      },
      "source": [
        "## Help Writing Code\n",
        "*   Practical Tips\n",
        "    *   Plan your code\n",
        "    *   Use comments and docstrings to outline what something does\n",
        "    *   Keep considering whether what you are doing should be in a preexisting library\n",
        "    *   Take a break from issues \n",
        "    *   PEP 20 The Zen of Python - https://peps.python.org/pep-0020/\n",
        "\n",
        "*   Documentation and Reference\n",
        "    *   Python 3 Standard Library - https://docs.python.org/3/library/index.html \n",
        "    *   W3 Schools - https://www.w3schools.com/python/python_reference.asp\n",
        "    *   PEP 8 Style Guide - https://peps.python.org/pep-0008/ \n",
        "\n",
        "*   Further Tutorials (Free)\n",
        "    *   These will help if you want some more info on a specific area or just want more practice\n",
        "    *   Interactive exercises - https://www.datacamp.com/courses/intro-to-python-for-data-science\n",
        "    *   Exhaustive reference tutorial - https://www.w3schools.com/python/python_intro.asp \n"
      ]
    },
    {
      "cell_type": "markdown",
      "metadata": {
        "slideshow": {
          "slide_type": "slide"
        }
      },
      "source": [
        "## More Help Writing Code\n",
        "*   Forums and Search\n",
        "    *   Try to consider the source and reputation of information you find online\n",
        "    *   **Never** just run code without reviewing and understanding it - risks are significant (errors/unexpected outcomes/catastrophic damage)\n",
        "    *   Stack Overflow - https://stackoverflow.com/questions (search extensively before asking)\n",
        "    *   Google search\n",
        "*   Generative AI/Copilot\n",
        "    *   Can be very helpful; however, ...\n",
        "    *   Same risks as running unverified code from Google (errors/unexpected outcomes/catastrophic damage)\n",
        "    *   Very easy to not learn anything\n",
        "    *   Does not scale well to larger/more complex problems\n",
        "*   Tutorials and Office Hours\n",
        "    *   Bring questions to future tutorials\n",
        "    *   Email me: stuart.bowyer@imperial.ac.uk\n",
        "    *   We can setup office hours for later tutorials\n"
      ]
    },
    {
      "cell_type": "markdown",
      "metadata": {
        "slideshow": {
          "slide_type": "slide"
        }
      },
      "source": [
        "## MIMIC-IV\n",
        "*   For the applied lectures later in the course, we will be using the open dataset MIMIC-IV\n",
        "    *   https://physionet.org/content/mimiciv/ \n",
        "\n",
        "*   Access requires a few steps:\n",
        "    *   Registering on the website\n",
        "    *   Completing training on the use of data for research\n",
        "    *   Applying for credentialled access to view the dataset\n",
        "\n",
        "*   Detailed instructions are available here: https://bb.imperial.ac.uk/webapps/blackboard/execute/content/blankPage?cmd=view&content_id=_3248343_1&course_id=_42130_1 \n",
        "\n",
        "*   <span style=\"color:red\">**IT IS VERY IMPORTANT THAT YOU START THE THIS PROCESS SOON - THE TRAINING COURSE AND CREDENTIAL REVIEW CAN TAKE SOME TIME**</span>\n"
      ]
    },
    {
      "cell_type": "markdown",
      "metadata": {
        "slideshow": {
          "slide_type": "slide"
        }
      },
      "source": [
        "## Before Next Session\n",
        "*   Start the process of getting access to MIMIC\n",
        "*   Make sure you feel comfortable with all the code written today and tutorial solutions\n",
        "    *   There are some further tutorials on the [Leganto reading list](https://imperial.alma.exlibrisgroup.com/leganto/public/44IMP_INST/lists/45286392440001591?auth=SAML&section=45286392460001591)"
      ]
    }
  ],
  "metadata": {
    "colab": {
      "include_colab_link": true,
      "provenance": [],
      "toc_visible": true
    },
    "git_commit_hash": "v.2024-09-20_874c8c6",
    "kernelspec": {
      "display_name": "Python 3",
      "language": "python",
      "name": "python3"
    },
    "language_info": {
      "codemirror_mode": {
        "name": "ipython",
        "version": 3
      },
      "file_extension": ".py",
      "mimetype": "text/x-python",
      "name": "python",
      "nbconvert_exporter": "python",
      "pygments_lexer": "ipython3",
      "version": "3.11.9"
    },
    "title": "Programming for Data Science and AI"
  },
  "nbformat": 4,
  "nbformat_minor": 0
}
