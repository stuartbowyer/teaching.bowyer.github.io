{
 "cells": [
  {
   "cell_type": "markdown",
   "metadata": {},
   "source": [
    "<img src=\"https://teaching.bowyer.io/SDSAI/0/img/IMPERIAL_logo_RGB_Blue_2024.svg\" alt=\"Imperial Logo\" width=\"500\"/><br /><br />\n",
    "\n",
    "Neural Networks and Deep Learning\n",
    "==============\n",
    "### SURG70098 - Surgical Data Science and AI\n",
    "### Stuart Bowyer"
   ]
  },
  {
   "cell_type": "markdown",
   "metadata": {
    "slideshow": {
     "slide_type": "slide"
    }
   },
   "source": [
    "## Intended Learning Outcomes\n",
    "1.  Understand the concept behind neural networks and how they 'learn'\n",
    "1.  Be able to build simple neural networks to address regression and classification problems\n",
    "1.  Be aware of the limitations and challenges of neural networks and where to look to address them\n",
    "1.  Have a preliminary understanding of what deep learning is and what it can be used for\n",
    "1.  Be able to understand hyperparameter selection and optimisation\n"
   ]
  },
  {
   "cell_type": "markdown",
   "metadata": {
    "slideshow": {
     "slide_type": "slide"
    }
   },
   "source": [
    "## MIMIC Dataset\n",
    "The following code will load the datasets used in this lecture notes"
   ]
  },
  {
   "cell_type": "code",
   "execution_count": 71,
   "metadata": {
    "tags": [
     "remove-output"
    ]
   },
   "outputs": [],
   "source": [
    "%pip install pandas_gbq\n",
    "\n",
    "import pandas as pd\n",
    "import pandas_gbq\n",
    "\n",
    "project_id = 'mimic-project-439314'  # @param {type:\"string\"}\n",
    "\n",
    "df_day1_vitalsign = pandas_gbq.read_gbq(\"\"\"\n",
    "  SELECT\n",
    "    *,\n",
    "    (dod IS NOT NULL) AND (dod <= dischtime) AS mortality,\n",
    "    weight / POWER(height/100, 2) > 30 AS obese\n",
    "  FROM `physionet-data.mimiciv_derived.first_day_vitalsign`\n",
    "  LEFT JOIN (\n",
    "    SELECT\n",
    "      subject_id,\n",
    "      stay_id,\n",
    "      gender,\n",
    "      race,\n",
    "      dischtime,\n",
    "      admission_age,\n",
    "      dod\n",
    "    FROM\n",
    "      `physionet-data.mimiciv_derived.icustay_detail`\n",
    "  )\n",
    "  USING(subject_id, stay_id)\n",
    "  LEFT JOIN (\n",
    "    SELECT\n",
    "      stay_id,\n",
    "      AVG(weight) as weight\n",
    "    FROM\n",
    "      `physionet-data.mimiciv_derived.weight_durations`\n",
    "    GROUP BY\n",
    "      stay_id\n",
    "  )\n",
    "  USING(stay_id)\n",
    "  LEFT JOIN (\n",
    "    SELECT\n",
    "      stay_id,\n",
    "      CAST(AVG(height) AS FLOAT64) AS height\n",
    "    FROM\n",
    "      `physionet-data.mimiciv_derived.height`\n",
    "    GROUP BY\n",
    "      stay_id\n",
    "  )\n",
    "  USING(stay_id)\n",
    "  WHERE heart_rate_mean IS NOT NULL\n",
    "\"\"\", project_id=project_id)"
   ]
  },
  {
   "cell_type": "markdown",
   "metadata": {
    "slideshow": {
     "slide_type": "slide"
    }
   },
   "source": [
    "# Recap Supervised Learning\n",
    "*   Last week, we studied a few methods for supervised learning, all of these have some limitations\n",
    "    *   All methods involve some assumptions about model structure (e.g. linearity, mapped linearity)\n",
    "    *   KNN and SVM do not scale well to very large data sets or high dimensionality\n",
    "    *   Linear and logistic regression require feature engineering \n",
    "    *   Decision trees are prone to overfitting\n",
    "    *   And more..."
   ]
  },
  {
   "cell_type": "markdown",
   "metadata": {
    "slideshow": {
     "slide_type": "slide"
    }
   },
   "source": [
    "# Neural Networks\n",
    "*   Neural networks are a machine learning method that aims to overcome these issues\n",
    "*   Particularly with respect to:\n",
    "    *   Large data\n",
    "    *   High-dimensionality data\n",
    "    *   Complex interdependent data\n",
    "    *   (Unstructured data)"
   ]
  },
  {
   "cell_type": "markdown",
   "metadata": {
    "slideshow": {
     "slide_type": "slide"
    }
   },
   "source": [
    "## Introduction to Neural Networks"
   ]
  },
  {
   "cell_type": "markdown",
   "metadata": {
    "slideshow": {
     "slide_type": "slide"
    }
   },
   "source": [
    "### Bioinspiration\n",
    "*   These models were created to mimic the function of biological neurons\n",
    "*   By combining many neurons they are able to \n",
    "*   In reality, the aritifical neural networks are quite different from biological neural networks; however, they are very effective"
   ]
  },
  {
   "cell_type": "markdown",
   "metadata": {
    "slideshow": {
     "slide_type": "slide"
    }
   },
   "source": [
    "### Artifical Neurons\n",
    "Neural networks are made up from multiple artificial neurons\n",
    "\n",
    "![Artificial neuron image](https://teaching.bowyer.io/SDSAI/5/img/Illustrations-SDSAI-05_Artifical-Neuron.svg)"
   ]
  },
  {
   "cell_type": "markdown",
   "metadata": {
    "slideshow": {
     "slide_type": "slide"
    }
   },
   "source": [
    "### Activation Functions\n",
    "*   Activation functions are a critical component of the neural network\n",
    "*   They produce non-linearity\n",
    "*   Therefore, allow it to model complex relationships\n",
    "*   There are a range of functions\n",
    "\n",
    "![Activation function illustration](https://teaching.bowyer.io/SDSAI/5/img/Illustrations-SDSAI-05_Activation-Functions.svg)"
   ]
  },
  {
   "cell_type": "markdown",
   "metadata": {
    "slideshow": {
     "slide_type": "slide"
    }
   },
   "source": [
    "## Quick Exercise - Artificial Neuron Worked Example\n",
    "For a three input neuron with the following input values and parameters, can you calculate (with simple Python) the output value of the neuron for the input `A Values` and the `B Values`?\n",
    "\n",
    "You should get a separate output value for each input set\n",
    "\n",
    "### Parameters\n",
    "| Parameter | Value |\n",
    "| --------- | ----- |\n",
    "| weight 1  | 0.5   |\n",
    "| weight 2  | 1.7   |\n",
    "| weight 3  | 0.001 |\n",
    "| bias      | -52   |\n",
    "| Activation function | ReLU |\n",
    "\n",
    "### Inputs\n",
    "| Input     | A Values  | B Values  |\n",
    "| --------- | --------- | --------- |\n",
    "| input 1   | 65 kg     | 82 kg     |\n",
    "| input 2   | 1.7 m     | 1.85 m    |\n",
    "| input 3   | 8200 c/uL | 9800 c/uL |"
   ]
  },
  {
   "cell_type": "markdown",
   "metadata": {
    "slideshow": {
     "slide_type": "slide"
    }
   },
   "source": [
    "### Possible Python Solution"
   ]
  },
  {
   "cell_type": "code",
   "execution_count": 16,
   "metadata": {},
   "outputs": [
    {
     "name": "stdout",
     "output_type": "stream",
     "text": [
      "Neuron output for A is 0\n",
      "Neuron output for B is 1.9450000000000074\n"
     ]
    }
   ],
   "source": [
    "w1 = 0.5\n",
    "w2 = 1.7\n",
    "w3 = 0.001\n",
    "bias = -52\n",
    "\n",
    "def relu(x):\n",
    "    if (x < 0):\n",
    "        return(0)\n",
    "    return(x)\n",
    "\n",
    "va1 = 65\n",
    "va2 = 1.7\n",
    "va3 = 8200\n",
    "\n",
    "vb1 = 82\n",
    "vb2 = 1.85\n",
    "vb3 = 9800\n",
    "\n",
    "output_a = relu(w1 * va1 + w2 * va2 + w3 * va3 + bias)\n",
    "output_b = relu(w1 * vb1 + w2 * vb2 + w3 * vb3 + bias)\n",
    "\n",
    "print(f'Neuron output for A is {output_a}')\n",
    "print(f'Neuron output for B is {output_b}')\n"
   ]
  },
  {
   "cell_type": "markdown",
   "metadata": {
    "slideshow": {
     "slide_type": "slide"
    }
   },
   "source": [
    "### Neural Network\n",
    "*   An assembly of artificial neurons in a network structure\n",
    "*   Neurons are grouped into layers of three different types\n",
    "\n",
    "![Simple artificial neural network](https://teaching.bowyer.io/SDSAI/5/img/Illustrations-SDSAI-05_ANN.svg)"
   ]
  },
  {
   "cell_type": "markdown",
   "metadata": {
    "slideshow": {
     "slide_type": "slide"
    }
   },
   "source": [
    "### Why Neural Networks Work\n",
    "*   Each individual neuron can model a simple activation function\n",
    "*   By combining them in this structure, the combination of simple activation functions can model non-linear and complex relationships\n",
    "\n",
    "| Training | Predicting |\n",
    "| - | - |\n",
    "| <img src=\"https://upload.wikimedia.org/wikipedia/commons/0/0c/Simplified_neural_network_training_example.svg\" alt=\"Description of Image\" style=\"width: 450px; display: block; margin: 0 auto;\"> | <img src=\"https://upload.wikimedia.org/wikipedia/commons/b/b7/Simplified_neural_network_example.svg\" alt=\"Description of Image\" style=\"width: 450px; display: block; margin: 0 auto;\"> |\n",
    "| By <a href=\"//commons.wikimedia.org/wiki/File:Mikael_H%C3%A4ggstr%C3%B6m_at_pathology_in_2019_(crop).jpg\" class=\"mw-file-description\"></a><a href=\"//commons.wikimedia.org/wiki/User:Mikael_H%C3%A4ggstr%C3%B6m\" title=\"User:Mikael Häggström\">Mikael Häggström</a>, <a href=\"https://en.wikipedia.org/wiki/Medical_Doctor\" class=\"extiw\" title=\"en:Medical Doctor\">M.D.</a> <a href=\"//commons.wikimedia.org/wiki/Mikael_H%C3%A4ggstr%C3%B6m\" class=\"mw-redirect\" title=\"Mikael Häggström\">Author info</a>- <a href=\"//commons.wikimedia.org/wiki/User:Mikael_H%C3%A4ggstr%C3%B6m#Reusing_images\" title=\"User:Mikael Häggström\">Reusing images</a>- Conflicts of interest:&nbsp; None<a href=\"//commons.wikimedia.org/wiki/User:Mikael_H%C3%A4ggstr%C3%B6m\" title=\"User:Mikael Häggström\">Mikael Häggström</a>, <a href=\"https://en.wikipedia.org/wiki/Medical_Doctor\" class=\"extiw\" title=\"en:Medical Doctor\">M.D.</a> - <span class=\"int-own-work\" lang=\"en\">Own work</span>, <a href=\"http://creativecommons.org/publicdomain/zero/1.0/deed.en\" title=\"Creative Commons Zero, Public Domain Dedication\">CC0</a>, <a href=\"https://commons.wikimedia.org/w/index.php?curid=138411803\">Link</a> | By <a href=\"//commons.wikimedia.org/wiki/File:Mikael_H%C3%A4ggstr%C3%B6m_at_pathology_in_2019_(crop).jpg\" class=\"mw-file-description\"></a><a href=\"//commons.wikimedia.org/wiki/User:Mikael_H%C3%A4ggstr%C3%B6m\" title=\"User:Mikael Häggström\">Mikael Häggström</a>, <a href=\"https://en.wikipedia.org/wiki/Medical_Doctor\" class=\"extiw\" title=\"en:Medical Doctor\">M.D.</a> <a href=\"//commons.wikimedia.org/wiki/Mikael_H%C3%A4ggstr%C3%B6m\" class=\"mw-redirect\" title=\"Mikael Häggström\">Author info</a>- <a href=\"//commons.wikimedia.org/wiki/User:Mikael_H%C3%A4ggstr%C3%B6m#Reusing_images\" title=\"User:Mikael Häggström\">Reusing images</a>- Conflicts of interest:&nbsp; None<a href=\"//commons.wikimedia.org/wiki/User:Mikael_H%C3%A4ggstr%C3%B6m\" title=\"User:Mikael Häggström\">Mikael Häggström</a>, <a href=\"https://en.wikipedia.org/wiki/Medical_Doctor\" class=\"extiw\" title=\"en:Medical Doctor\">M.D.</a> - <span class=\"int-own-work\" lang=\"en\">Own work</span>Reference: Ferrie, C., &amp; Kaiser, S. (2019) Neural Networks for Babies, Sourcebooks <span lang=\"en\" dir=\"ltr\"><a href=\"https://en.wikipedia.org/wiki/ISBN\" class=\"extiw\" title=\"en:ISBN\"><span lang=\"en\" dir=\"ltr\">ISBN</span></a></span>: <a href=\"//commons.wikimedia.org/wiki/Special:BookSources/1492671207\" title=\"Special:BookSources/1492671207\">1492671207</a>., <a href=\"http://creativecommons.org/publicdomain/zero/1.0/deed.en\" title=\"Creative Commons Zero, Public Domain Dedication\">CC0</a>, <a href=\"https://commons.wikimedia.org/w/index.php?curid=137892223\">Link</a> |"
   ]
  },
  {
   "cell_type": "markdown",
   "metadata": {
    "slideshow": {
     "slide_type": "slide"
    }
   },
   "source": [
    "### Complex Neural Network Architecture\n",
    "Networks with many neurons and many layers can model highly complex relationships\n",
    "\n",
    "![Complex artificial neural network](https://teaching.bowyer.io/SDSAI/5/img/Illustrations-SDSAI-05_Complex-ANN.svg)"
   ]
  },
  {
   "cell_type": "markdown",
   "metadata": {
    "slideshow": {
     "slide_type": "slide"
    }
   },
   "source": [
    "### Input Layer\n",
    "*   **Function:** Takes the raw data and sends it into the network without any transformation or activation\n",
    "*   **Number:** The number of neurons in the input layer is the number of features you have\n",
    "*   **Connection:** Each input neuron is connected to each neuron in the first hidden layer\n",
    "*   **Example:** Each input neuron would be one of the features you observed per patient\n",
    "\n",
    "![Complex artificial neural network](https://teaching.bowyer.io/SDSAI/5/img/Illustrations-SDSAI-05_Complex-ANN.svg)"
   ]
  },
  {
   "cell_type": "markdown",
   "metadata": {
    "slideshow": {
     "slide_type": "slide"
    }
   },
   "source": [
    "### Hidden Layer(s)\n",
    "*   **Function:** Allow for the translation of the input data into increasingly abstract representations that model them\n",
    "*   **Number of neurons:** The number of neurons per layer is a model parameter. More neurons can model more complex relationships.\n",
    "*   **Number of layers:** The number of layers is a model parameter. More layers can model deeper level features.\n",
    "*   **Connection:** Each neuron is (**typically**) connected to each neuron in the next layer\n",
    "*   **Example:** The first layer could learn to derive BMI from height and weight\n",
    "\n",
    "![Complex artificial neural network](https://teaching.bowyer.io/SDSAI/5/img/Illustrations-SDSAI-05_Complex-ANN.svg)"
   ]
  },
  {
   "cell_type": "markdown",
   "metadata": {
    "slideshow": {
     "slide_type": "slide"
    }
   },
   "source": [
    "### Output Layer\n",
    "*   **Function:** Takes the abstracted data representation from the final hidden layer and produces the final prediction/classification\n",
    "*   **Number (regression):** A single output neuron combines the network data into a single value\n",
    "*   **Number (binary classification):** A single output neuron with a value between 0 and 1\n",
    "*   **Number (multi-classification):** One output neuron per output class\n",
    "*   **Example:** For a mortality prediction the output layer would have one neuron that gives a probability of true/false\n",
    "\n",
    "![Complex artificial neural network](https://teaching.bowyer.io/SDSAI/5/img/Illustrations-SDSAI-05_Complex-ANN.svg)"
   ]
  },
  {
   "cell_type": "markdown",
   "metadata": {
    "slideshow": {
     "slide_type": "slide"
    }
   },
   "source": [
    "### Softmax\n",
    "*   There is a challenge with multi-classification problems where you want to have a probability value per class ...\n",
    "*   Consider a classifier with three possible outputs (high, medium, and low risk) and your output neurons produce `[2.2, 0.4, 0.1]`, but you want to know the probability of being in each risk category\n",
    "*   Softmax is a function that allows you to combine your output layer values together and produce a probability distribution across the classes such that all sum to 1 (i.e. probabilities)\n",
    "    *   e.g. `[2.2, 0.4, 0.1]` becomes `[0.78, 0.13, 0.10]`\n",
    "*   This function is computationally efficient during training (which we will consider next)"
   ]
  },
  {
   "cell_type": "markdown",
   "metadata": {
    "slideshow": {
     "slide_type": "slide"
    }
   },
   "source": [
    "### Summary\n",
    "| **Aspect**                 | **Input Layer**                                    | **Hidden Layer(s)**                               | **Output Layer**                                  |\n",
    "|----------------------------|----------------------------------------------------|---------------------------------------------------|---------------------------------------------------|\n",
    "| **Role**                   | Receives and passes input data to the network      | Processes data, learns features and patterns      | Generates the final prediction or output          |\n",
    "| **Data Handling**          | Takes raw input data (e.g., features, images)      | Transforms data through weighted connections      | Produces output suitable for the task (class/probability/value) |\n",
    "| **Activation Function**    | None                                               | Non-linear functions (e.g., ReLU, Tanh, Sigmoid)  | Depends on the problem: Softmax, Sigmoid, Linear  |\n",
    "| **Number of Neurons**      | Equal to the number of input features              | Varies based on network architecture              | Depends on the output type (e.g., 1 for regression, n for n-class classification) |\n",
    "| **Complexity**             | Simple; no learning occurs in this layer           | Complex; learns hierarchical features and patterns| Simple; maps learned features to output space     |\n",
    "| **Learning Role**          | No learning or transformations                     | Learns and extracts meaningful features           | Outputs the final result of the network’s learning|\n",
    "| **Example**                | Each neuron represents a patient feature (e.g., age, heart rate, blood pressure) | Neurons learn interactions between features (e.g., BMI) | Outputs probability of mortality (e.g., risk score or binary prediction) |"
   ]
  },
  {
   "cell_type": "markdown",
   "metadata": {
    "slideshow": {
     "slide_type": "slide"
    }
   },
   "source": [
    "## Training Neural Networks\n"
   ]
  },
  {
   "cell_type": "markdown",
   "metadata": {
    "slideshow": {
     "slide_type": "slide"
    }
   },
   "source": [
    "### Network Initialisation\n",
    "*   To start training a neural network on data, you need an initial 'guess' at the weights/biases\n",
    "*   You can start by assigning the values randomly; however, the distribution for should be carefully considered to avoid training instability (see later on)\n",
    "*   Methods such as Xavier (Glorot) or He (Kaiming) initialisation define distributions to sample from to for different activation functions\n",
    "\n",
    "![Complex artificial neural network](https://teaching.bowyer.io/SDSAI/5/img/Illustrations-SDSAI-05_Training-ANN-2.svg)"
   ]
  },
  {
   "cell_type": "markdown",
   "metadata": {
    "slideshow": {
     "slide_type": "slide"
    }
   },
   "source": [
    "### Forward Propagation\n",
    "*   The next step is to simply use your (semi-randomly initialised) network to make a prediction for your training data\n",
    "*   For example:\n",
    "    *   we have a `2.1` and `1.0` as the two features of the first sample in our training data\n",
    "    *   the neural network output predicts a probability of `0.8`\n",
    "    *   however, the real value should be False (`0.0`)\n",
    "    *   the model is currently poorly trained\n",
    "\n",
    "![Artificial neural network training 3](https://teaching.bowyer.io/SDSAI/5/img/Illustrations-SDSAI-05_Training-ANN-3.svg)"
   ]
  },
  {
   "cell_type": "markdown",
   "metadata": {
    "slideshow": {
     "slide_type": "slide"
    }
   },
   "source": [
    "### Loss Functions\n",
    "*   To train the model, we need a 'loss function'\n",
    "*   Simplistically, this is a measure of how 'bad' the model is at predicting\n",
    "    *   i.e. a loss function of 0 would be correct\n",
    "*   **Regression:** typically use the 'Mean Squared Error' (MSE)\n",
    "*   **Classification:** typically uses the 'Cross-Entropy Loss'\n",
    "*   There are others and you should explore these when you build a model - justify your choice\n",
    "\n",
    "![Artificial neural network training 4](https://teaching.bowyer.io/SDSAI/5/img/Illustrations-SDSAI-05_Training-ANN-4.svg)"
   ]
  },
  {
   "cell_type": "markdown",
   "metadata": {
    "slideshow": {
     "slide_type": "slide"
    }
   },
   "source": [
    "### How Do We Update the Model to Make it Better?\n",
    "We want the cross-entropy loss to as low as possible, which means we want the output layer to predict the same as the training data ...\n",
    "\n",
    "![Artificial neural network training 4](https://teaching.bowyer.io/SDSAI/5/img/Illustrations-SDSAI-05_Training-ANN-4.svg)"
   ]
  },
  {
   "cell_type": "markdown",
   "metadata": {
    "slideshow": {
     "slide_type": "slide"
    }
   },
   "source": [
    "### Back Propagation - Conceptually\n",
    "*   The idea is to 'nudge' the weights in the network so they slightly reduce the loss at each iteration\n",
    "*   We step backwards through the neural network, at each layer:\n",
    "    *   Adjust the weights and bias so that the output moves in the direction that minimises the loss\n",
    "    *   Adjust the weights such that larger changes are applied to greater improvements\n",
    "    *   Propogate the required changes (errors) in the previous layer's outputs\n",
    "*   Once we reach the input layer, the neural network should be slightly better at the trained sample\n",
    "*   Repeating this process over and over causes the network's parameters to converge on a trained configuration\n",
    "\n",
    "![Artificial neural network training 4](https://teaching.bowyer.io/SDSAI/5/img/Illustrations-SDSAI-05_Training-ANN-4.svg)"
   ]
  },
  {
   "cell_type": "markdown",
   "metadata": {
    "slideshow": {
     "slide_type": "slide"
    }
   },
   "source": [
    "### Back Propagation - Computationally\n",
    "*   In practice, you want to minimise the loss for all your training samples at once\n",
    "    *   So you combine them into a single loss (or cost) function\n",
    "*   Python performs back propagation by computing the gradient of the cost function in the model parameters and adjusting them appropriately\n",
    "*   How big a 'step' the solver takes at a time is controlled by the learning rate\n",
    "*   This is a common computational approach called 'Gradient Descent'\n",
    "\n",
    "<video width=\"640\" height=\"360\" controls loop autoplay muted>\n",
    "  <source src=\"https://upload.wikimedia.org/wikipedia/commons/4/4c/Gradient_Descent_in_2D.webm\" type=\"video/webm\">\n",
    "  Your browser does not support the video tag.\n",
    "</video>\n",
    "\n",
    "By Gpeyre, CC-SA 4.0 https://commons.wikimedia.org/wiki/File:Gradient_Descent_in_2D.webm"
   ]
  },
  {
   "cell_type": "markdown",
   "metadata": {
    "slideshow": {
     "slide_type": "slide"
    }
   },
   "source": [
    "### Training Challenges\n",
    "There are some challenges in training neural networks ...\n",
    "\n",
    "*   **Vanishing Gradients:** learning can become very slow or stop in early layers due to the very shallow gradients of the sigmoid and tanh activation functions\n",
    "*   **Exploding Gradients:** learning becomes unstable due to large gradients resulting from poor initialisation\n",
    "*   **Dead ReLU Units:** learning stops because ReLU neurons get stuck in the 0 region with no gradient to recover"
   ]
  },
  {
   "cell_type": "markdown",
   "metadata": {
    "slideshow": {
     "slide_type": "slide"
    }
   },
   "source": [
    "## Neural Network Classifier in `scikit-learn`\n",
    "*   In `scikit-learn` the typical neural network is the `MLPClassifier`\n",
    "*   This is a Multi-Layer Perceptron (a simple feedforward neural network)"
   ]
  },
  {
   "cell_type": "code",
   "execution_count": null,
   "metadata": {},
   "outputs": [],
   "source": [
    "from sklearn.neural_network import MLPClassifier"
   ]
  },
  {
   "cell_type": "markdown",
   "metadata": {
    "slideshow": {
     "slide_type": "slide"
    }
   },
   "source": [
    "## Exercise - Mortality Prediction\n",
    "Take your mortality prediction models from last week's tutorial and try to use a neural network classifier, validate and compare your performance to the linear classifier.\n",
    "\n",
    "Explore different model parameters:\n",
    "*   What does increasing the number/size of layers achieve?\n",
    "*   Which activation functions work?\n",
    "*   What happens when you increase/decrease the learning rate?\n",
    "\n",
    "What configuration gives you the best performance?\n",
    "\n",
    "What do you think is limiting your ability to get better performance?"
   ]
  },
  {
   "cell_type": "markdown",
   "metadata": {
    "slideshow": {
     "slide_type": "slide"
    }
   },
   "source": [
    "### Simple Solution"
   ]
  },
  {
   "cell_type": "code",
   "execution_count": 72,
   "metadata": {},
   "outputs": [
    {
     "name": "stdout",
     "output_type": "stream",
     "text": [
      "Confusion Matrix:\n",
      " [[12550    55]\n",
      " [ 1508   109]]\n",
      "Accuracy: 0.890099845310083\n",
      "f1-score: 0.12240314430095452\n",
      "ROC AUC:  0.5315227169083349\n",
      "N:                              71110\n",
      "Cross-Validation Accuracy Mean: 0.8869076079313739\n",
      "Cross-Validation F1 Mean:       0.10674687476466245\n",
      "Cross-Validation ROC AUC Mean:  0.7005425104687292\n"
     ]
    }
   ],
   "source": [
    "from sklearn.neural_network import MLPClassifier\n",
    "from sklearn.model_selection import cross_validate, train_test_split\n",
    "from sklearn.metrics import accuracy_score, confusion_matrix, f1_score, roc_auc_score\n",
    "from imblearn.over_sampling import RandomOverSampler\n",
    "\n",
    "# Prepare our data\n",
    "data = df_day1_vitalsign.dropna(subset=['admission_age', 'heart_rate_mean', 'sbp_mean', 'glucose_mean', 'mortality'])\n",
    "X = data[['admission_age', 'heart_rate_mean', 'sbp_mean', 'glucose_mean']]\n",
    "Y = data['mortality']\n",
    "\n",
    "# Create the Neural network with 20 neurons in the hidden layer\n",
    "model = MLPClassifier(\n",
    "    hidden_layer_sizes=(20),\n",
    "    random_state=1\n",
    ")\n",
    "\n",
    "# Train Test Split\n",
    "X_train, X_test, Y_train, Y_test = train_test_split(X, Y, test_size=0.2, random_state=1)\n",
    "\n",
    "# Train the model\n",
    "model.fit(X_train, Y_train)\n",
    "\n",
    "# Test the model\n",
    "Y_pred = model.predict(X_test)\n",
    "\n",
    "# Metrics\n",
    "print(f\"Confusion Matrix:\\n {confusion_matrix(Y_test, Y_pred)}\")\n",
    "print(f\"Accuracy: {accuracy_score(Y_test, Y_pred)}\")\n",
    "print(f\"f1-score: {f1_score(Y_test, Y_pred)}\")\n",
    "print(f\"ROC AUC:  {roc_auc_score(Y_test, Y_pred)}\")\n",
    "\n",
    "# Cross validate to assess the balanced performance\n",
    "nn_scores = cross_validate(model, X, Y, cv=5, scoring=['f1','accuracy','precision','recall','roc_auc'])\n",
    "\n",
    "print(f'N:                              {len(Y)}')\n",
    "print(f'Cross-Validation Accuracy Mean: {nn_scores[\"test_accuracy\"].mean()}')\n",
    "print(f'Cross-Validation F1 Mean:       {nn_scores[\"test_f1\"].mean()}')\n",
    "print(f'Cross-Validation ROC AUC Mean:  {nn_scores[\"test_roc_auc\"].mean()}')"
   ]
  },
  {
   "cell_type": "markdown",
   "metadata": {
    "slideshow": {
     "slide_type": "slide"
    }
   },
   "source": [
    "# Deep Neural Networks\n",
    "Deep neural networks are the most active area of ML research, here we will introduce the concept and give a few examples of approaches"
   ]
  },
  {
   "cell_type": "markdown",
   "metadata": {
    "slideshow": {
     "slide_type": "slide"
    }
   },
   "source": [
    "## Introduction\n",
    "*   Deep learning is the process of using neural networks to model highly complex relationships between data\n",
    "*   Simplistically, these are neural networks with many hidden layers (maybe 10s or even 100s)\n",
    "*   The idea is that more layers/neurons can abstract concepts to a much greater degree\n",
    "*   Modelling these complex relationships requires **LARGE** datasets\n",
    "*   Deep neural networks often involve more complicated neuron arrangements (e.g. RNN, CNN, etc.)"
   ]
  },
  {
   "cell_type": "markdown",
   "metadata": {
    "slideshow": {
     "slide_type": "slide"
    }
   },
   "source": [
    "## Deep Neural Network Examples\n",
    "\n",
    "### DenseNet-264\n",
    "*   Convolutional Neural Network architecture\n",
    "*   264 layers\n",
    "*   33 million parameters\n",
    "\n",
    "### AlphaFold from DeepMind (allegedly...)\n",
    "*   Hybrid architecture\n",
    "*   Dozens of layers\n",
    "*   ~100 million parameters\n",
    "*   Trained with ~1,000 TPUs for several months\n",
    "\n",
    "### GPT-4 from OpenAI (allegedly...)\n",
    "*   Transformer architecture\n",
    "*   120 layers\n",
    "*   1.8 trillion parameters\n",
    "*   Trained with 1,000s of GPUs over 90-100 days (cost of $63M)"
   ]
  },
  {
   "cell_type": "markdown",
   "metadata": {
    "slideshow": {
     "slide_type": "slide"
    }
   },
   "source": [
    "## Advantages\n",
    "*   **High Performance:** these models are repeatedly shown to perform well on complex problems\n",
    "*   **Model Abstraction/Translation:** the high degree of abstraction in hidden layers allows them to be applied/translated to related tasks\n",
    "*   **Feature Engineering:** the model's ability to abstract the input data means it can find/engineer features itself\n",
    "*   **Utilise Large and High-Dimensional Data:** the models are capable of learning detail from massive amounts of data with thousands of dimensions\n",
    "*   **Flexibility:** the architecture can be configured to specialise on several types of data/problems"
   ]
  },
  {
   "cell_type": "markdown",
   "metadata": {
    "slideshow": {
     "slide_type": "slide"
    }
   },
   "source": [
    "## Disadvantages\n",
    "*   **Data Requirements:** massive datasets are required for training to learn complex relationships\n",
    "*   **Computational Cost:** training can take a long time and require expensive resources\n",
    "*   **High Parameterisation:** models have many parameters that need setting to perform optimally\n",
    "*   **Overfitting:** massive numbers of parameters can end up overfitting the data\n",
    "*   **Interpretability:** complex architectures and large numbers of parameters make the models almost impossible to interpret/explain"
   ]
  },
  {
   "cell_type": "markdown",
   "metadata": {
    "slideshow": {
     "slide_type": "slide"
    }
   },
   "source": [
    "## Neural Networks for Computer Vision\n",
    "*   Neural networks were crucial in the development of computer vision, e.g.:\n",
    "    *   Image classification\n",
    "    *   Object detection\n",
    "    *   Image generation\n",
    "    *   etc.\n",
    "*   To train a neural network on 'unstructured' data such as a medical image you need to 'flatten' the data\n",
    "*   Each pixel in the image becomes an individual feature, and is passed to the input layer of the neural network\n",
    "\n",
    "![Image analysis NN](https://teaching.bowyer.io/SDSAI/5/img/Illustrations-SDSAI-05_Image-ANN.svg)"
   ]
  },
  {
   "cell_type": "markdown",
   "metadata": {
    "slideshow": {
     "slide_type": "slide"
    }
   },
   "source": [
    "### Convolutional Neural Networks (CNN)\n",
    "*   Special neurons are used in the convolution layers where a small filter is applied to the data\n",
    "*   These filters identify (initially) simple elements of the image (e.g. edges)\n",
    "*   By layering these filters, they can learn increasingly complex patterns (e.g. edges, windows, houses)\n",
    "*   The structure of these filters are learnt during training\n",
    "\n",
    "![Typical CNN](https://upload.wikimedia.org/wikipedia/commons/6/63/Typical_cnn.png)\n",
    "\n",
    "By <a href=\"//commons.wikimedia.org/w/index.php?title=User:Aphex34&amp;action=edit&amp;redlink=1\" class=\"new\" title=\"User:Aphex34 (page does not exist)\">Aphex34</a> - <span class=\"int-own-work\" lang=\"en\">Own work</span>, <a href=\"https://creativecommons.org/licenses/by-sa/4.0\" title=\"Creative Commons Attribution-Share Alike 4.0\">CC BY-SA 4.0</a>, <a href=\"https://commons.wikimedia.org/w/index.php?curid=45679374\">Link</a>"
   ]
  },
  {
   "cell_type": "markdown",
   "metadata": {
    "slideshow": {
     "slide_type": "slide"
    }
   },
   "source": [
    "## Do you think these neural networks are capable of giving predictions that remember previous inputs?\n",
    "\n",
    "For example, imagine you wanted to build a model to predict some adverse event during surgery, based on continuous monitoring data. You need your model to constantly be running on the latest observations"
   ]
  },
  {
   "cell_type": "markdown",
   "metadata": {
    "slideshow": {
     "slide_type": "slide"
    }
   },
   "source": [
    "## Recurrent Neural Networks\n",
    "*   So far, we have looked at 'feed forward' networks - i.e. the data is fed forward from the input to output layer\n",
    "    *   These are 'stateless' - i.e. cannot remember anything between inputs\n",
    "    *   It does not have to be this way\n",
    "*   Recurrent Neural Networks (RNN) are neural networks with memory\n",
    "    *   Long Short-Term Memory (LSTM) are the most popular RNN architecture that can 'remember' values over a long period and then 'forget' them when necessary\n",
    "\n",
    "![Recurrent Neural Network](https://teaching.bowyer.io/SDSAI/5/img/Illustrations-SDSAI-05_RNN.svg)\n",
    "\n",
    "*   RNNs were commonly used for timeseries data; however, have fallen out of fashion with the popularity of 'transformers'"
   ]
  },
  {
   "cell_type": "markdown",
   "metadata": {
    "slideshow": {
     "slide_type": "slide"
    }
   },
   "source": [
    "## Transformers\n",
    "*   Transformers do not worry about remembering the state between inputs - they take the whole history as an input each time\n",
    "*   They have revolutionised NLP and other sequential (unstructured) data modelling tasks\n",
    "*   **Key Components**\n",
    "    *   **Self-attention:** allows the model to learn the importance of relationships between input tokens (i.e. surgery event -> infection event)\n",
    "    *   **Positional encoding:** allows the model to understand the sequential order of inputs"
   ]
  },
  {
   "cell_type": "markdown",
   "metadata": {
    "slideshow": {
     "slide_type": "slide"
    }
   },
   "source": [
    "# Model Reliability, Reproducibility, and Optimality"
   ]
  },
  {
   "cell_type": "markdown",
   "metadata": {
    "slideshow": {
     "slide_type": "slide"
    }
   },
   "source": [
    "## In the last tutorial, what did you find with the SVM, KNN and decision tree methods when trying to get good performance?"
   ]
  },
  {
   "cell_type": "markdown",
   "metadata": {
    "slideshow": {
     "slide_type": "slide"
    }
   },
   "source": [
    "## Hyperparameter Tuning\n",
    "*   As models become more powerful, they tend to have increasing numbers of parameters\n",
    "*   For example:\n",
    "    *   Number of neighbours in KNN\n",
    "    *   Depth of a decision tree\n",
    "    *   Layers, neurons, activation functions, etc for neural networks\n",
    "*   We call these **hyperparameters**\n",
    "*   You have seen that variation in these parameters can effect model performance enormously\n",
    "\n",
    "**How do you think we can ensure we have the best configuration for our model's hyperparameters?**"
   ]
  },
  {
   "cell_type": "markdown",
   "metadata": {
    "slideshow": {
     "slide_type": "slide"
    }
   },
   "source": [
    "### Grid Search\n",
    "Involves systematically searching combinations of hyperparameters to find the best score\n",
    "*   Approach guarantees a 'reasonable' proximity to the optimal values\n",
    "*   `from sklearn.model_selection import GridSearchCV`\n",
    "\n",
    "![Grid search hyperparameter optimisation](https://upload.wikimedia.org/wikipedia/commons/b/b6/Hyperparameter_Optimization_using_Grid_Search.svg)\n",
    "\n",
    "By <a href=\"//commons.wikimedia.org/w/index.php?title=User:Alexander_Elvers&amp;action=edit&amp;redlink=1\" class=\"new\" title=\"User:Alexander Elvers (page does not exist)\">Alexander Elvers</a> - <span class=\"int-own-work\" lang=\"en\">Own work</span>, <a href=\"https://creativecommons.org/licenses/by-sa/4.0\" title=\"Creative Commons Attribution-Share Alike 4.0\">CC BY-SA 4.0</a>, <a href=\"https://commons.wikimedia.org/w/index.php?curid=84255403\">Link</a>"
   ]
  },
  {
   "cell_type": "markdown",
   "metadata": {
    "slideshow": {
     "slide_type": "slide"
    }
   },
   "source": [
    "### Random Search\n",
    "Involves randomly saerching combinations of hyperparameters to find the best score\n",
    "*   Explores the continuous value space more efficiently than the grid search\n",
    "*   `from sklearn.model_selection import RandomizedSearchCV`\n",
    "\n",
    "![Random search hyperparameter optimisation](https://upload.wikimedia.org/wikipedia/commons/7/74/Hyperparameter_Optimization_using_Random_Search.svg)\n",
    "\n",
    "By <a href=\"//commons.wikimedia.org/w/index.php?title=User:Alexander_Elvers&amp;action=edit&amp;redlink=1\" class=\"new\" title=\"User:Alexander Elvers (page does not exist)\">Alexander Elvers</a> - <span class=\"int-own-work\" lang=\"en\">Own work</span>, <a href=\"https://creativecommons.org/licenses/by-sa/4.0\" title=\"Creative Commons Attribution-Share Alike 4.0\">CC BY-SA 4.0</a>, <a href=\"https://commons.wikimedia.org/w/index.php?curid=84255404\">Link</a>"
   ]
  },
  {
   "cell_type": "markdown",
   "metadata": {
    "slideshow": {
     "slide_type": "slide"
    }
   },
   "source": [
    "### Bayesian Optimisation\n",
    "Involves using an optimisation approach to search in areas where it expects the performance to be better\n",
    "*   Typically finds optima more quickly than random search\n",
    "*   `from skopt import BayesSearchCV`\n",
    "\n",
    "![Bayesian Optimisation hyperparameter optimisation](https://upload.wikimedia.org/wikipedia/commons/3/3c/Hyperparameter_Optimization_using_Tree-Structured_Parzen_Estimators.svg)\n",
    "\n",
    "By <a href=\"//commons.wikimedia.org/w/index.php?title=User:Alexander_Elvers&amp;action=edit&amp;redlink=1\" class=\"new\" title=\"User:Alexander Elvers (page does not exist)\">Alexander Elvers</a> - <span class=\"int-own-work\" lang=\"en\">Own work</span>, <a href=\"https://creativecommons.org/licenses/by-sa/4.0\" title=\"Creative Commons Attribution-Share Alike 4.0\">CC BY-SA 4.0</a>, <a href=\"https://commons.wikimedia.org/w/index.php?curid=84255405\">Link</a>"
   ]
  },
  {
   "cell_type": "markdown",
   "metadata": {
    "slideshow": {
     "slide_type": "slide"
    }
   },
   "source": [
    "#### Grid Search in `scikit-learn`"
   ]
  },
  {
   "cell_type": "code",
   "execution_count": 93,
   "metadata": {},
   "outputs": [
    {
     "name": "stdout",
     "output_type": "stream",
     "text": [
      "Best Score:      0.7274227972755576\n",
      "Best Parameters: {'activation': 'logistic', 'hidden_layer_sizes': 40}\n"
     ]
    }
   ],
   "source": [
    "from sklearn.neural_network import MLPClassifier\n",
    "from sklearn.model_selection import GridSearchCV\n",
    "\n",
    "data = df_day1_vitalsign.dropna(subset=['admission_age', 'heart_rate_mean', 'sbp_mean', 'glucose_mean', 'mortality'])\n",
    "X = data[['admission_age', 'heart_rate_mean', 'sbp_mean', 'glucose_mean']]\n",
    "Y = data['mortality']\n",
    "\n",
    "# Create the initial model\n",
    "model = MLPClassifier(random_state=1)\n",
    "\n",
    "# Define the grid search\n",
    "grid_search = GridSearchCV(\n",
    "    model,\n",
    "    param_grid={\n",
    "        'hidden_layer_sizes': range(5,45,5),\n",
    "        'activation': ['relu', 'logistic', 'tanh']\n",
    "    },\n",
    "    scoring='roc_auc'\n",
    ")\n",
    "\n",
    "# Perform the grid search\n",
    "grid_search.fit(X, Y)\n",
    "\n",
    "# Get the best score and best parameters\n",
    "print(f\"Best Score:      {grid_search.best_score_}\")\n",
    "print(f\"Best Parameters: {grid_search.best_params_}\")"
   ]
  },
  {
   "cell_type": "markdown",
   "metadata": {
    "slideshow": {
     "slide_type": "slide"
    }
   },
   "source": [
    "### Model Sensitivity/Stability\n",
    "*   You can use the hyperparameter optimisation to assess the sensitivity and stability of a model\n",
    "*   If small changes in parameters lead to large changes in performance, the model is 'sensitive' and maybe overfit\n",
    "*   If large changes in parameters lead to small changes in performance, the model is either already at it's limit, underfit, or suffering from some other issues"
   ]
  },
  {
   "cell_type": "code",
   "execution_count": 98,
   "metadata": {
    "tags": [
     "side-by-side"
    ]
   },
   "outputs": [
    {
     "data": {
      "image/png": "[encoded data removed]",
      "text/plain": [
       "<Figure size 640x480 with 1 Axes>"
      ]
     },
     "metadata": {},
     "output_type": "display_data"
    }
   ],
   "source": [
    "auc_values = grid_search.cv_results_['mean_test_score'][grid_search.cv_results_['param_activation'] == 'logistic']\n",
    "nneuron_values = grid_search.cv_results_['param_hidden_layer_sizes'][grid_search.cv_results_['param_activation'] == 'logistic']\n",
    "\n",
    "import matplotlib.pyplot as plt\n",
    "\n",
    "plt.scatter(nneuron_values, auc_values)\n",
    "plt.xlabel(\"Neurons in Layer\")\n",
    "plt.ylabel(\"ROC AUC\")\n",
    "plt.show()"
   ]
  },
  {
   "cell_type": "markdown",
   "metadata": {
    "slideshow": {
     "slide_type": "slide"
    }
   },
   "source": [
    "# Wrap Up\n",
    "*   You now have lots of tools to address supervised machine learning problems; however, experience and reading up on the nuances of each method is the difference between using them well\n",
    "*   REMEMBER... if your model does not have the key features of the system/disease/procedure/etc. you are trying to predict, no matter how complex you make your model or how many samples you collect, it will never improve its performance\n",
    "\n",
    "![](https://assets.cureus.com/uploads/figure/file/292667/article_river_6a398820513311ecb45235ba7f0fde7e-LRvsNN_plot4.png)\n",
    "\n",
    "Issitt R W, Cortina-Borja M, Bryant W, et al. (February 21, 2022) Classification Performance of Neural Networks Versus Logistic Regression Models: Evidence From Healthcare Practice. Cureus 14(2): e22443. doi:10.7759/cureus.2244"
   ]
  },
  {
   "cell_type": "markdown",
   "metadata": {
    "slideshow": {
     "slide_type": "slide"
    }
   },
   "source": [
    "## Before Next Session\n",
    "*   Review background on neural networks\n",
    "*   Complete the tutorial exercises\n",
    "\n",
    "### New Material\n",
    "*   Tutorial on CNN for image classification - https://www.tensorflow.org/tutorials/images/cnn\n",
    "*   OPTIONAL Very detailed description of the DeepMind AlphaFold 3, so you can understand the complexity possible in Deep Neural Networks - https://elanapearl.github.io/blog/2024/the-illustrated-alphafold/\n",
    "\n",
    "### Consolidation Reading\n",
    "*   Excellent interactive Google tutorial that lets you visually explore neural networks - https://developers.google.com/machine-learning/crash-course/neural-networks "
   ]
  }
 ],
 "metadata": {
  "kernelspec": {
   "display_name": "Python 3",
   "language": "python",
   "name": "python3"
  },
  "language_info": {
   "codemirror_mode": {
    "name": "ipython",
    "version": 3
   },
   "file_extension": ".py",
   "mimetype": "text/x-python",
   "name": "python",
   "nbconvert_exporter": "python",
   "pygments_lexer": "ipython3",
   "version": "3.11.9"
  }
 },
 "nbformat": 4,
 "nbformat_minor": 2
}
